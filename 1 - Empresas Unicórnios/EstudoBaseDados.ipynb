{
 "cells": [
  {
   "cell_type": "markdown",
   "metadata": {},
   "source": [
    "# Unicorn Startups"
   ]
  },
  {
   "cell_type": "markdown",
   "metadata": {},
   "source": [
    "O primeiro passo para ser executado é realizar a importação das bibliotecas necessárias para a execução do projeto. No caso de necessidade de possuir outras bibliotecas, este bloco será responsável por receber todas as bibliotecas.\n",
    "\n",
    "Aqui, também, foi importado a biblioteca ```warnings``` para filtrar alguns avisos."
   ]
  },
  {
   "cell_type": "code",
   "execution_count": 11,
   "metadata": {},
   "outputs": [],
   "source": [
    "# Importando as bibliotecas\n",
    "import numpy as np\n",
    "import pandas as pd\n",
    "import matplotlib.pyplot as plt\n",
    "import seaborn as sns\n",
    "\n",
    "# Ignorar alguns avisos que podem ocorrer\n",
    "import warnings\n",
    "warnings.filterwarnings('ignore')"
   ]
  },
  {
   "cell_type": "markdown",
   "metadata": {},
   "source": [
    "O próximo passo é realizar a importação do arquivo ```Startups2021.csv``` através do pandas, no formato de um ```DataFrame```.\n",
    "\n",
    "Após o carregamento do DataFrame, verificamos que a base de dados em questão possui 936 linhas (dados) e 8 colunas (atributos)."
   ]
  },
  {
   "cell_type": "code",
   "execution_count": 4,
   "metadata": {},
   "outputs": [
    {
     "data": {
      "text/plain": [
       "(936, 8)"
      ]
     },
     "execution_count": 4,
     "metadata": {},
     "output_type": "execute_result"
    }
   ],
   "source": [
    "# Ler os dados do arquivo 'Startups2021.csv'\n",
    "df = pd.read_csv('Startups2021.csv')\n",
    "\n",
    "# Verifica o tamanho da Base de Dados\n",
    "df.shape"
   ]
  },
  {
   "cell_type": "markdown",
   "metadata": {},
   "source": [
    "Realizaremos uma primeira visualização da base de dados carregados."
   ]
  },
  {
   "cell_type": "code",
   "execution_count": 5,
   "metadata": {},
   "outputs": [
    {
     "data": {
      "text/html": [
       "<div>\n",
       "<style scoped>\n",
       "    .dataframe tbody tr th:only-of-type {\n",
       "        vertical-align: middle;\n",
       "    }\n",
       "\n",
       "    .dataframe tbody tr th {\n",
       "        vertical-align: top;\n",
       "    }\n",
       "\n",
       "    .dataframe thead th {\n",
       "        text-align: right;\n",
       "    }\n",
       "</style>\n",
       "<table border=\"1\" class=\"dataframe\">\n",
       "  <thead>\n",
       "    <tr style=\"text-align: right;\">\n",
       "      <th></th>\n",
       "      <th>Unnamed: 0</th>\n",
       "      <th>Company</th>\n",
       "      <th>Valuation ($B)</th>\n",
       "      <th>Date Joined</th>\n",
       "      <th>Country</th>\n",
       "      <th>City</th>\n",
       "      <th>Industry</th>\n",
       "      <th>Select Investors</th>\n",
       "    </tr>\n",
       "  </thead>\n",
       "  <tbody>\n",
       "    <tr>\n",
       "      <th>0</th>\n",
       "      <td>0</td>\n",
       "      <td>Bytedance</td>\n",
       "      <td>$140</td>\n",
       "      <td>4/7/2017</td>\n",
       "      <td>China</td>\n",
       "      <td>Beijing</td>\n",
       "      <td>Artificial intelligence</td>\n",
       "      <td>Sequoia Capital China, SIG Asia Investments, S...</td>\n",
       "    </tr>\n",
       "    <tr>\n",
       "      <th>1</th>\n",
       "      <td>1</td>\n",
       "      <td>SpaceX</td>\n",
       "      <td>$100.3</td>\n",
       "      <td>12/1/2012</td>\n",
       "      <td>United States</td>\n",
       "      <td>Hawthorne</td>\n",
       "      <td>Other</td>\n",
       "      <td>Founders Fund, Draper Fisher Jurvetson, Rothen...</td>\n",
       "    </tr>\n",
       "    <tr>\n",
       "      <th>2</th>\n",
       "      <td>2</td>\n",
       "      <td>Stripe</td>\n",
       "      <td>$95</td>\n",
       "      <td>1/23/2014</td>\n",
       "      <td>United States</td>\n",
       "      <td>San Francisco</td>\n",
       "      <td>Fintech</td>\n",
       "      <td>Khosla Ventures, LowercaseCapital, capitalG</td>\n",
       "    </tr>\n",
       "    <tr>\n",
       "      <th>3</th>\n",
       "      <td>3</td>\n",
       "      <td>Klarna</td>\n",
       "      <td>$45.6</td>\n",
       "      <td>12/12/2011</td>\n",
       "      <td>Sweden</td>\n",
       "      <td>Stockholm</td>\n",
       "      <td>Fintech</td>\n",
       "      <td>Institutional Venture Partners, Sequoia Capita...</td>\n",
       "    </tr>\n",
       "    <tr>\n",
       "      <th>4</th>\n",
       "      <td>4</td>\n",
       "      <td>Canva</td>\n",
       "      <td>$40</td>\n",
       "      <td>1/8/2018</td>\n",
       "      <td>Australia</td>\n",
       "      <td>Surry Hills</td>\n",
       "      <td>Internet software &amp; services</td>\n",
       "      <td>Sequoia Capital China, Blackbird Ventures, Mat...</td>\n",
       "    </tr>\n",
       "  </tbody>\n",
       "</table>\n",
       "</div>"
      ],
      "text/plain": [
       "   Unnamed: 0    Company Valuation ($B) Date Joined        Country  \\\n",
       "0           0  Bytedance           $140    4/7/2017          China   \n",
       "1           1     SpaceX         $100.3   12/1/2012  United States   \n",
       "2           2     Stripe            $95   1/23/2014  United States   \n",
       "3           3     Klarna          $45.6  12/12/2011         Sweden   \n",
       "4           4      Canva            $40    1/8/2018      Australia   \n",
       "\n",
       "            City                      Industry  \\\n",
       "0        Beijing       Artificial intelligence   \n",
       "1      Hawthorne                         Other   \n",
       "2  San Francisco                       Fintech   \n",
       "3      Stockholm                       Fintech   \n",
       "4    Surry Hills  Internet software & services   \n",
       "\n",
       "                                    Select Investors  \n",
       "0  Sequoia Capital China, SIG Asia Investments, S...  \n",
       "1  Founders Fund, Draper Fisher Jurvetson, Rothen...  \n",
       "2        Khosla Ventures, LowercaseCapital, capitalG  \n",
       "3  Institutional Venture Partners, Sequoia Capita...  \n",
       "4  Sequoia Capital China, Blackbird Ventures, Mat...  "
      ]
     },
     "execution_count": 5,
     "metadata": {},
     "output_type": "execute_result"
    }
   ],
   "source": [
    "# Exibe os primeiros 5 (cinco) registros do DataFrame\n",
    "df.head()"
   ]
  },
  {
   "cell_type": "markdown",
   "metadata": {},
   "source": [
    "Antes de prosseguirmos com as análises, realizaremos a alteração no nome das colunas para melhor visualização futura.\n",
    "1. Visualizamos apenas os nomes das colunas\n",
    "2. Através do envio de um dicionário na função ```rename```, realizamos a alteração dos nomes das colunas e indicamos, com o parâmetro ```implace``` como ```True``` para que seja sobrescrito no próprio DataFrame."
   ]
  },
  {
   "cell_type": "code",
   "execution_count": 7,
   "metadata": {},
   "outputs": [
    {
     "data": {
      "text/plain": [
       "Index(['Unnamed: 0', 'Company', 'Valuation ($B)', 'Date Joined', 'Country',\n",
       "       'City', 'Industry', 'Select Investors'],\n",
       "      dtype='object')"
      ]
     },
     "execution_count": 7,
     "metadata": {},
     "output_type": "execute_result"
    }
   ],
   "source": [
    "# Exibe o nome das colunas do DataFrame\n",
    "df.columns"
   ]
  },
  {
   "cell_type": "code",
   "execution_count": 8,
   "metadata": {},
   "outputs": [],
   "source": [
    "# Renomeia as Colunas do DataFrame e sobrescreve o nome no próprio DataFrame\n",
    "df.rename(columns={\n",
    "    'Unnamed: 0' : 'Id',\n",
    "    'Company' : 'Empresa',\n",
    "    'Valuation ($B)' : 'Valor ($B)',\n",
    "    'Date Joined' : 'Data de Adesão',\n",
    "    'Country' : 'Pais',\n",
    "    'City' : 'Cidade',\n",
    "    'Industry': 'Setor',\n",
    "    'Select Investors': 'Investidores',\n",
    "}, inplace=True)"
   ]
  },
  {
   "cell_type": "markdown",
   "metadata": {},
   "source": [
    "Ao visualizar os primeiros dados, é possível verificar que, existem alguns valores que não estão adequados. Para certificar os tipos de dados em cada uma das colunas, executamos o comando abaixo e, comprovamos que os atributos ```Valor ($B)``` não é do tipo ```float``` (devido a presença do símbolo $ antes do valor) e o atributo ```Data de Adesão``` não é do tipo ```date``` (devido ao formato incorreto de data).\n",
    "\n",
    "Além destas observações, é possível notar que temos a presença de alguns campos nulos nos atributos ```Cidade```, que possui apenas 921 dados e no atributo ```Investidores```, que possui apenas 935 informações cadastradas. Vale ressaltar que possuimos, na nossa base de dados, **936 linhas**."
   ]
  },
  {
   "cell_type": "code",
   "execution_count": 12,
   "metadata": {},
   "outputs": [
    {
     "name": "stdout",
     "output_type": "stream",
     "text": [
      "<class 'pandas.core.frame.DataFrame'>\n",
      "RangeIndex: 936 entries, 0 to 935\n",
      "Data columns (total 8 columns):\n",
      " #   Column          Non-Null Count  Dtype \n",
      "---  ------          --------------  ----- \n",
      " 0   Id              936 non-null    int64 \n",
      " 1   Empresa         936 non-null    object\n",
      " 2   Valor ($B)      936 non-null    object\n",
      " 3   Data de Adesão  936 non-null    object\n",
      " 4   Pais            936 non-null    object\n",
      " 5   Cidade          921 non-null    object\n",
      " 6   Setor           936 non-null    object\n",
      " 7   Investidores    935 non-null    object\n",
      "dtypes: int64(1), object(7)\n",
      "memory usage: 58.6+ KB\n"
     ]
    }
   ],
   "source": [
    "# Verifica o tipo de informação armazenada em cada uma das colunas do DataFrame\n",
    "df.info()"
   ]
  },
  {
   "cell_type": "markdown",
   "metadata": {},
   "source": [
    "Observe que, ao realizar a contagem dos campos nulos do DataFrame, temos que faltam 15 cidades e 1 investidor que possuem valores nulos. A partir daí, cabe ao Analista verificar a importância destes dados, pois, existem diferentes métodos para lidar com a falta destes dados."
   ]
  },
  {
   "cell_type": "code",
   "execution_count": 13,
   "metadata": {},
   "outputs": [
    {
     "data": {
      "text/plain": [
       "Id                 0\n",
       "Empresa            0\n",
       "Valor ($B)         0\n",
       "Data de Adesão     0\n",
       "Pais               0\n",
       "Cidade            15\n",
       "Setor              0\n",
       "Investidores       1\n",
       "dtype: int64"
      ]
     },
     "execution_count": 13,
     "metadata": {},
     "output_type": "execute_result"
    }
   ],
   "source": [
    "# Verifica os campos nulos\n",
    "df.isnull().sum()"
   ]
  },
  {
   "cell_type": "markdown",
   "metadata": {},
   "source": [
    "**Opção 1**: Realizar a remoção da Coluna que possui os dados nulos\n",
    "\n",
    "Através do comando ```pandas.DataFrame.drop``` conseguimos realizar a exclusão da coluna ```Cidade``` e ```Investidores``` do DataFrame. Caso queira que esta alteração passe para o DataFrame, adiciona-se o parâmetro ```inplace=True```.\n",
    "\n",
    "No código abaixo, primeiramente, foi removido a coluna ```Cidade``` atribuindo a uma segunda variável e, posteriormente, com o parâmetro ```inplace=True```, realizou-se a retirada da coluna ```Investidores```.\n",
    "\n",
    "Vale ressaltar que, este método só está sendo utilizado por questões de **estudos** e não é indicado para o nosso caso, visto que perde-se cerca de **24,78%** de todos os dados do DataFrame ao excluir as colunas ```Cidade``` e ```Investidores```."
   ]
  },
  {
   "cell_type": "code",
   "execution_count": 17,
   "metadata": {},
   "outputs": [
    {
     "data": {
      "text/plain": [
       "Index(['Id', 'Empresa', 'Valor ($B)', 'Data de Adesão', 'Pais', 'Setor'], dtype='object')"
      ]
     },
     "execution_count": 17,
     "metadata": {},
     "output_type": "execute_result"
    }
   ],
   "source": [
    "# Remove a coluna 'Cidade' do DataFrame df e atribui a um novo DataFrame (df2)\n",
    "df2 = df.drop('Cidade', axis=1)\n",
    "\n",
    "# Remove a coluna 'Investidores' do DataFrame df2 e atribui a alteração diretamente no próprio DataFrame (inplace=True)\n",
    "df2.drop('Investidores', axis=1, inplace=True)\n",
    "\n",
    "# Exibe as colunas do df2, agora, sem a coluna 'Cidade'\n",
    "df2.columns"
   ]
  },
  {
   "cell_type": "code",
   "execution_count": 18,
   "metadata": {},
   "outputs": [
    {
     "data": {
      "text/plain": [
       "Id                0\n",
       "Empresa           0\n",
       "Valor ($B)        0\n",
       "Data de Adesão    0\n",
       "Pais              0\n",
       "Setor             0\n",
       "dtype: int64"
      ]
     },
     "execution_count": 18,
     "metadata": {},
     "output_type": "execute_result"
    }
   ],
   "source": [
    "# Verifica os campos nulos do novo DataFrame que está sem a coluna 'Cidade'\n",
    "df2.isnull().sum()"
   ]
  },
  {
   "cell_type": "markdown",
   "metadata": {},
   "source": [
    "\n",
    "**Opção 2**. Realizar a remoção da Linha que possui os dados nulos\n",
    "\n",
    "Esta opção já pode ser utilizada para o nosso caso. A perda das linhas podem não gerar perdas significativas **dependendo da futura aplicação**, visto que, para alguns recursos de inteligência artificial, tais dados podem significar a identificação de novos padrões ou auxiliar na métrica do algoritmo.\n",
    "\n",
    "De forma geral, a remoção de dados de um DataFrame quase sempre não é aconselhada pois podemos perder informações valiosas com a exclusão.\n",
    "\n",
    "Dado a ressalva, para realizar a remoção de uma linha que possui dados faltantes, utilizaremos, junto com o comando ```pandas.DataFrame.drop```, uma busca por valores nulos em cada uma das colunas, conforme exemplo abaixo."
   ]
  },
  {
   "cell_type": "code",
   "execution_count": 43,
   "metadata": {},
   "outputs": [
    {
     "data": {
      "text/plain": [
       "(920, 8)"
      ]
     },
     "execution_count": 43,
     "metadata": {},
     "output_type": "execute_result"
    }
   ],
   "source": [
    "# Realiza uma cópia do DataFrame inicial para não haver alterações nele\n",
    "df_aux = df.copy(deep=True)\n",
    "\n",
    "# Remove as linhas (index) que possuem valores nulos (NaN) na coluna 'Cidade' e salva as alterações no próprio DataFrame\n",
    "df_aux.drop(df_aux.loc[pd.isnull(df_aux['Cidade'])].index, inplace=True)\n",
    "\n",
    "# Remove as linhas (index) que possuem valores nulos (NaN) na coluna 'Cidade' e salva as alterações no próprio DataFrame\n",
    "df_aux.drop(df_aux.loc[pd.isnull(df_aux['Investidores'])].index, inplace=True)\n",
    "\n",
    "# Exibe o novo tamanho do DataFrame\n",
    "df_aux.shape"
   ]
  },
  {
   "cell_type": "code",
   "execution_count": 44,
   "metadata": {},
   "outputs": [
    {
     "data": {
      "text/plain": [
       "Id                0\n",
       "Empresa           0\n",
       "Valor ($B)        0\n",
       "Data de Adesão    0\n",
       "Pais              0\n",
       "Cidade            0\n",
       "Setor             0\n",
       "Investidores      0\n",
       "dtype: int64"
      ]
     },
     "execution_count": 44,
     "metadata": {},
     "output_type": "execute_result"
    }
   ],
   "source": [
    "# Verifica os campos nulos do novo DataFrame que está sem a coluna 'Cidade'\n",
    "df_aux.isnull().sum()"
   ]
  },
  {
   "cell_type": "markdown",
   "metadata": {},
   "source": [
    "**Opção 3**. Substituir os valores faltantes pela média de valores da Coluna\n",
    "\n",
    "Para os casos de variáveis do tipo numéricas, esta abordagem torna-se bem simples, bastando realizar a média numérica de acordo com os dados da coluna e substituir os valores faltantes (NaN) pela média.\n",
    "\n",
    "Já para dados Categóricos, isso passa a ser uma abordagem complexa. Para essa base de dados, é inviável realizar tal substituição, visto que os atributos que estão com falta de dados, são do tipo categóricos e são relevantes para a consistência dos dados."
   ]
  },
  {
   "cell_type": "markdown",
   "metadata": {},
   "source": [
    "**Opção 4**. Alterar cada um dos dados manualmente através da obtenção das informações\n",
    "\n",
    "Para uma base de dados \"pequena\" com poucas faltas, seria uma ótima abordagem completar a base de dados através da obtenção das informações faltantes, sendo esta, a melhor abordagem de todas. Porém, nem sempre este requisito é atendido, devido a falta de informações disponíveis ou, dependendo da quantidade de dados faltantes, da inviabilidade de obter tais informações.\n",
    "\n",
    "Para verificar quais linhas possuem os dados faltantes e para simular a incerção destes dados no DataFrame, basta filtrar de acordo com a coluna desejada, conforme já realizado anteriormente."
   ]
  },
  {
   "cell_type": "code",
   "execution_count": 45,
   "metadata": {},
   "outputs": [
    {
     "data": {
      "text/html": [
       "<div>\n",
       "<style scoped>\n",
       "    .dataframe tbody tr th:only-of-type {\n",
       "        vertical-align: middle;\n",
       "    }\n",
       "\n",
       "    .dataframe tbody tr th {\n",
       "        vertical-align: top;\n",
       "    }\n",
       "\n",
       "    .dataframe thead th {\n",
       "        text-align: right;\n",
       "    }\n",
       "</style>\n",
       "<table border=\"1\" class=\"dataframe\">\n",
       "  <thead>\n",
       "    <tr style=\"text-align: right;\">\n",
       "      <th></th>\n",
       "      <th>Id</th>\n",
       "      <th>Empresa</th>\n",
       "      <th>Valor ($B)</th>\n",
       "      <th>Data de Adesão</th>\n",
       "      <th>Pais</th>\n",
       "      <th>Cidade</th>\n",
       "      <th>Setor</th>\n",
       "      <th>Investidores</th>\n",
       "    </tr>\n",
       "  </thead>\n",
       "  <tbody>\n",
       "    <tr>\n",
       "      <th>11</th>\n",
       "      <td>11</td>\n",
       "      <td>FTX</td>\n",
       "      <td>$25</td>\n",
       "      <td>7/20/2021</td>\n",
       "      <td>Hong Kong</td>\n",
       "      <td>NaN</td>\n",
       "      <td>Fintech</td>\n",
       "      <td>Sequoia Capital, Thoma Bravo, Softbank</td>\n",
       "    </tr>\n",
       "    <tr>\n",
       "      <th>192</th>\n",
       "      <td>192</td>\n",
       "      <td>HyalRoute</td>\n",
       "      <td>$3.5</td>\n",
       "      <td>5/26/2020</td>\n",
       "      <td>Singapore</td>\n",
       "      <td>NaN</td>\n",
       "      <td>Mobile &amp; telecommunications</td>\n",
       "      <td>Kuang-Chi</td>\n",
       "    </tr>\n",
       "    <tr>\n",
       "      <th>399</th>\n",
       "      <td>399</td>\n",
       "      <td>Advance Intelligence Group</td>\n",
       "      <td>$2</td>\n",
       "      <td>9/23/2021</td>\n",
       "      <td>Singapore</td>\n",
       "      <td>NaN</td>\n",
       "      <td>Artificial intelligence</td>\n",
       "      <td>Vision Plus Capital, GSR Ventures, ZhenFund</td>\n",
       "    </tr>\n",
       "    <tr>\n",
       "      <th>572</th>\n",
       "      <td>572</td>\n",
       "      <td>Trax</td>\n",
       "      <td>$1.3</td>\n",
       "      <td>7/22/2019</td>\n",
       "      <td>Singapore</td>\n",
       "      <td>NaN</td>\n",
       "      <td>Artificial intelligence</td>\n",
       "      <td>Hopu Investment Management, Boyu Capital, DC T...</td>\n",
       "    </tr>\n",
       "    <tr>\n",
       "      <th>677</th>\n",
       "      <td>677</td>\n",
       "      <td>Amber Group</td>\n",
       "      <td>$1.1</td>\n",
       "      <td>6/21/2021</td>\n",
       "      <td>Hong Kong</td>\n",
       "      <td>NaN</td>\n",
       "      <td>Fintech</td>\n",
       "      <td>Tiger Global Management, Tiger Brokers, DCM Ve...</td>\n",
       "    </tr>\n",
       "    <tr>\n",
       "      <th>682</th>\n",
       "      <td>682</td>\n",
       "      <td>Carousell</td>\n",
       "      <td>$1.1</td>\n",
       "      <td>9/15/2021</td>\n",
       "      <td>Singapore</td>\n",
       "      <td>NaN</td>\n",
       "      <td>E-commerce &amp; direct-to-consumer</td>\n",
       "      <td>500 Global, Rakuten Ventures, Golden Gate Vent...</td>\n",
       "    </tr>\n",
       "    <tr>\n",
       "      <th>735</th>\n",
       "      <td>735</td>\n",
       "      <td>WeLab</td>\n",
       "      <td>$1</td>\n",
       "      <td>11/8/2017</td>\n",
       "      <td>Hong Kong</td>\n",
       "      <td>NaN</td>\n",
       "      <td>Fintech</td>\n",
       "      <td>Sequoia Capital China, ING, Alibaba Entreprene...</td>\n",
       "    </tr>\n",
       "    <tr>\n",
       "      <th>812</th>\n",
       "      <td>812</td>\n",
       "      <td>PatSnap</td>\n",
       "      <td>$1</td>\n",
       "      <td>3/16/2021</td>\n",
       "      <td>Singapore</td>\n",
       "      <td>NaN</td>\n",
       "      <td>Internet software &amp; services</td>\n",
       "      <td>Sequoia Capital China, Shunwei Capital Partner...</td>\n",
       "    </tr>\n",
       "    <tr>\n",
       "      <th>840</th>\n",
       "      <td>840</td>\n",
       "      <td>Moglix</td>\n",
       "      <td>$1</td>\n",
       "      <td>5/17/2021</td>\n",
       "      <td>Singapore</td>\n",
       "      <td>NaN</td>\n",
       "      <td>E-commerce &amp; direct-to-consumer</td>\n",
       "      <td>Jungle Ventures, Accel, Venture Highway</td>\n",
       "    </tr>\n",
       "    <tr>\n",
       "      <th>843</th>\n",
       "      <td>843</td>\n",
       "      <td>Matrixport</td>\n",
       "      <td>$1</td>\n",
       "      <td>6/1/2021</td>\n",
       "      <td>Singapore</td>\n",
       "      <td>NaN</td>\n",
       "      <td>Fintech</td>\n",
       "      <td>Dragonfly Captial, Qiming Venture Partners, DS...</td>\n",
       "    </tr>\n",
       "    <tr>\n",
       "      <th>848</th>\n",
       "      <td>848</td>\n",
       "      <td>Carro</td>\n",
       "      <td>$1</td>\n",
       "      <td>6/14/2021</td>\n",
       "      <td>Singapore</td>\n",
       "      <td>NaN</td>\n",
       "      <td>E-commerce &amp; direct-to-consumer</td>\n",
       "      <td>SingTel Innov8, Alpha JWC Ventures, Golden Gat...</td>\n",
       "    </tr>\n",
       "    <tr>\n",
       "      <th>861</th>\n",
       "      <td>861</td>\n",
       "      <td>bolttech</td>\n",
       "      <td>$1</td>\n",
       "      <td>7/1/2021</td>\n",
       "      <td>Singapore</td>\n",
       "      <td>NaN</td>\n",
       "      <td>Fintech</td>\n",
       "      <td>Mundi Ventures, Doqling Capital Partners, Acti...</td>\n",
       "    </tr>\n",
       "    <tr>\n",
       "      <th>872</th>\n",
       "      <td>872</td>\n",
       "      <td>NIUM</td>\n",
       "      <td>$1</td>\n",
       "      <td>7/13/2021</td>\n",
       "      <td>Singapore</td>\n",
       "      <td>NaN</td>\n",
       "      <td>Fintech</td>\n",
       "      <td>Vertex Ventures SE Asia, Global Founders Capit...</td>\n",
       "    </tr>\n",
       "    <tr>\n",
       "      <th>885</th>\n",
       "      <td>885</td>\n",
       "      <td>Cider</td>\n",
       "      <td>$1</td>\n",
       "      <td>9/2/2021</td>\n",
       "      <td>Hong Kong</td>\n",
       "      <td>NaN</td>\n",
       "      <td>E-commerce &amp; direct-to-consumer</td>\n",
       "      <td>Andreessen Horowitz, DST Global, IDG Capital</td>\n",
       "    </tr>\n",
       "    <tr>\n",
       "      <th>897</th>\n",
       "      <td>897</td>\n",
       "      <td>Ninja Van</td>\n",
       "      <td>$1</td>\n",
       "      <td>9/27/2021</td>\n",
       "      <td>Singapore</td>\n",
       "      <td>NaN</td>\n",
       "      <td>Supply chain, logistics, &amp; delivery</td>\n",
       "      <td>B Capital Group, Monk's Hill Ventures, Dynamic...</td>\n",
       "    </tr>\n",
       "  </tbody>\n",
       "</table>\n",
       "</div>"
      ],
      "text/plain": [
       "      Id                     Empresa Valor ($B) Data de Adesão       Pais  \\\n",
       "11    11                         FTX        $25      7/20/2021  Hong Kong   \n",
       "192  192                   HyalRoute       $3.5      5/26/2020  Singapore   \n",
       "399  399  Advance Intelligence Group         $2      9/23/2021  Singapore   \n",
       "572  572                        Trax       $1.3      7/22/2019  Singapore   \n",
       "677  677                 Amber Group       $1.1      6/21/2021  Hong Kong   \n",
       "682  682                   Carousell       $1.1      9/15/2021  Singapore   \n",
       "735  735                       WeLab         $1      11/8/2017  Hong Kong   \n",
       "812  812                     PatSnap         $1      3/16/2021  Singapore   \n",
       "840  840                      Moglix         $1      5/17/2021  Singapore   \n",
       "843  843                  Matrixport         $1       6/1/2021  Singapore   \n",
       "848  848                       Carro         $1      6/14/2021  Singapore   \n",
       "861  861                    bolttech         $1       7/1/2021  Singapore   \n",
       "872  872                        NIUM         $1      7/13/2021  Singapore   \n",
       "885  885                       Cider         $1       9/2/2021  Hong Kong   \n",
       "897  897                   Ninja Van         $1      9/27/2021  Singapore   \n",
       "\n",
       "    Cidade                                Setor  \\\n",
       "11     NaN                              Fintech   \n",
       "192    NaN          Mobile & telecommunications   \n",
       "399    NaN              Artificial intelligence   \n",
       "572    NaN              Artificial intelligence   \n",
       "677    NaN                              Fintech   \n",
       "682    NaN      E-commerce & direct-to-consumer   \n",
       "735    NaN                              Fintech   \n",
       "812    NaN         Internet software & services   \n",
       "840    NaN      E-commerce & direct-to-consumer   \n",
       "843    NaN                              Fintech   \n",
       "848    NaN      E-commerce & direct-to-consumer   \n",
       "861    NaN                              Fintech   \n",
       "872    NaN                              Fintech   \n",
       "885    NaN      E-commerce & direct-to-consumer   \n",
       "897    NaN  Supply chain, logistics, & delivery   \n",
       "\n",
       "                                          Investidores  \n",
       "11              Sequoia Capital, Thoma Bravo, Softbank  \n",
       "192                                          Kuang-Chi  \n",
       "399        Vision Plus Capital, GSR Ventures, ZhenFund  \n",
       "572  Hopu Investment Management, Boyu Capital, DC T...  \n",
       "677  Tiger Global Management, Tiger Brokers, DCM Ve...  \n",
       "682  500 Global, Rakuten Ventures, Golden Gate Vent...  \n",
       "735  Sequoia Capital China, ING, Alibaba Entreprene...  \n",
       "812  Sequoia Capital China, Shunwei Capital Partner...  \n",
       "840            Jungle Ventures, Accel, Venture Highway  \n",
       "843  Dragonfly Captial, Qiming Venture Partners, DS...  \n",
       "848  SingTel Innov8, Alpha JWC Ventures, Golden Gat...  \n",
       "861  Mundi Ventures, Doqling Capital Partners, Acti...  \n",
       "872  Vertex Ventures SE Asia, Global Founders Capit...  \n",
       "885       Andreessen Horowitz, DST Global, IDG Capital  \n",
       "897  B Capital Group, Monk's Hill Ventures, Dynamic...  "
      ]
     },
     "execution_count": 45,
     "metadata": {},
     "output_type": "execute_result"
    }
   ],
   "source": [
    "# Realiza uma cópia do DataFrame inicial para não haver alterações nele\n",
    "df_aux = df.copy(deep=True)\n",
    "\n",
    "# Exibe as linhas (index) que possuem valores nulos (NaN) na coluna 'Cidade'\n",
    "df_aux.loc[pd.isnull(df_aux['Cidade'])]"
   ]
  }
 ],
 "metadata": {
  "kernelspec": {
   "display_name": "base",
   "language": "python",
   "name": "python3"
  },
  "language_info": {
   "codemirror_mode": {
    "name": "ipython",
    "version": 3
   },
   "file_extension": ".py",
   "mimetype": "text/x-python",
   "name": "python",
   "nbconvert_exporter": "python",
   "pygments_lexer": "ipython3",
   "version": "3.11.5"
  }
 },
 "nbformat": 4,
 "nbformat_minor": 2
}
