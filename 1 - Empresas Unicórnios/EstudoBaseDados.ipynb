{
 "cells": [
  {
   "cell_type": "markdown",
   "metadata": {},
   "source": [
    "# Unicorn Startups"
   ]
  },
  {
   "cell_type": "markdown",
   "metadata": {},
   "source": [
    "O primeiro passo para ser executado é realizar a importação das bibliotecas necessárias para a execução do projeto. No caso de necessidade de possuir outras bibliotecas, este bloco será responsável por receber todas as bibliotecas.\n",
    "\n",
    "Aqui, também, foi importado a biblioteca ```warnings``` para filtrar alguns avisos."
   ]
  },
  {
   "cell_type": "code",
   "execution_count": 29,
   "metadata": {},
   "outputs": [],
   "source": [
    "# Importando as bibliotecas\n",
    "import numpy as np\n",
    "import pandas as pd\n",
    "import matplotlib.pyplot as plt\n",
    "import seaborn as sns\n",
    "\n",
    "# Ignorar alguns avisos que podem ocorrer\n",
    "import warnings\n",
    "warnings.filterwarnings('ignore')"
   ]
  },
  {
   "cell_type": "markdown",
   "metadata": {},
   "source": [
    "O próximo passo é realizar a importação do arquivo ```Startups2021.csv``` através do pandas, no formato de um ```DataFrame```. Após o carregamento do DataFrame, verificamos que a base de dados em questão possui 936 linhas (dados) e 8 colunas (atributos), através do comando ```df.shape```."
   ]
  },
  {
   "cell_type": "code",
   "execution_count": 30,
   "metadata": {},
   "outputs": [
    {
     "data": {
      "text/plain": [
       "(936, 8)"
      ]
     },
     "execution_count": 30,
     "metadata": {},
     "output_type": "execute_result"
    }
   ],
   "source": [
    "# Ler os dados do arquivo 'Startups2021.csv'\n",
    "df = pd.read_csv('Startups2021.csv')\n",
    "\n",
    "# Verifica o tamanho da Base de Dados\n",
    "df.shape"
   ]
  },
  {
   "cell_type": "markdown",
   "metadata": {},
   "source": [
    "Realizaremos uma primeira visualização da base de dados carregados com o método ```df.head()```, que exibe os primeiros 5 (cinco) registros do DataFrame. Caso deseje exibir mais ou menos valores, basta enviar um valor numério inteiro para o método, como por exemplo ```df.head(3)```, que exibe os primeiros 3 (três) registros."
   ]
  },
  {
   "cell_type": "code",
   "execution_count": 31,
   "metadata": {},
   "outputs": [
    {
     "data": {
      "text/html": [
       "<div>\n",
       "<style scoped>\n",
       "    .dataframe tbody tr th:only-of-type {\n",
       "        vertical-align: middle;\n",
       "    }\n",
       "\n",
       "    .dataframe tbody tr th {\n",
       "        vertical-align: top;\n",
       "    }\n",
       "\n",
       "    .dataframe thead th {\n",
       "        text-align: right;\n",
       "    }\n",
       "</style>\n",
       "<table border=\"1\" class=\"dataframe\">\n",
       "  <thead>\n",
       "    <tr style=\"text-align: right;\">\n",
       "      <th></th>\n",
       "      <th>Unnamed: 0</th>\n",
       "      <th>Company</th>\n",
       "      <th>Valuation ($B)</th>\n",
       "      <th>Date Joined</th>\n",
       "      <th>Country</th>\n",
       "      <th>City</th>\n",
       "      <th>Industry</th>\n",
       "      <th>Select Investors</th>\n",
       "    </tr>\n",
       "  </thead>\n",
       "  <tbody>\n",
       "    <tr>\n",
       "      <th>0</th>\n",
       "      <td>0</td>\n",
       "      <td>Bytedance</td>\n",
       "      <td>$140</td>\n",
       "      <td>4/7/2017</td>\n",
       "      <td>China</td>\n",
       "      <td>Beijing</td>\n",
       "      <td>Artificial intelligence</td>\n",
       "      <td>Sequoia Capital China, SIG Asia Investments, S...</td>\n",
       "    </tr>\n",
       "    <tr>\n",
       "      <th>1</th>\n",
       "      <td>1</td>\n",
       "      <td>SpaceX</td>\n",
       "      <td>$100.3</td>\n",
       "      <td>12/1/2012</td>\n",
       "      <td>United States</td>\n",
       "      <td>Hawthorne</td>\n",
       "      <td>Other</td>\n",
       "      <td>Founders Fund, Draper Fisher Jurvetson, Rothen...</td>\n",
       "    </tr>\n",
       "    <tr>\n",
       "      <th>2</th>\n",
       "      <td>2</td>\n",
       "      <td>Stripe</td>\n",
       "      <td>$95</td>\n",
       "      <td>1/23/2014</td>\n",
       "      <td>United States</td>\n",
       "      <td>San Francisco</td>\n",
       "      <td>Fintech</td>\n",
       "      <td>Khosla Ventures, LowercaseCapital, capitalG</td>\n",
       "    </tr>\n",
       "    <tr>\n",
       "      <th>3</th>\n",
       "      <td>3</td>\n",
       "      <td>Klarna</td>\n",
       "      <td>$45.6</td>\n",
       "      <td>12/12/2011</td>\n",
       "      <td>Sweden</td>\n",
       "      <td>Stockholm</td>\n",
       "      <td>Fintech</td>\n",
       "      <td>Institutional Venture Partners, Sequoia Capita...</td>\n",
       "    </tr>\n",
       "    <tr>\n",
       "      <th>4</th>\n",
       "      <td>4</td>\n",
       "      <td>Canva</td>\n",
       "      <td>$40</td>\n",
       "      <td>1/8/2018</td>\n",
       "      <td>Australia</td>\n",
       "      <td>Surry Hills</td>\n",
       "      <td>Internet software &amp; services</td>\n",
       "      <td>Sequoia Capital China, Blackbird Ventures, Mat...</td>\n",
       "    </tr>\n",
       "  </tbody>\n",
       "</table>\n",
       "</div>"
      ],
      "text/plain": [
       "   Unnamed: 0    Company Valuation ($B) Date Joined        Country  \\\n",
       "0           0  Bytedance           $140    4/7/2017          China   \n",
       "1           1     SpaceX         $100.3   12/1/2012  United States   \n",
       "2           2     Stripe            $95   1/23/2014  United States   \n",
       "3           3     Klarna          $45.6  12/12/2011         Sweden   \n",
       "4           4      Canva            $40    1/8/2018      Australia   \n",
       "\n",
       "            City                      Industry  \\\n",
       "0        Beijing       Artificial intelligence   \n",
       "1      Hawthorne                         Other   \n",
       "2  San Francisco                       Fintech   \n",
       "3      Stockholm                       Fintech   \n",
       "4    Surry Hills  Internet software & services   \n",
       "\n",
       "                                    Select Investors  \n",
       "0  Sequoia Capital China, SIG Asia Investments, S...  \n",
       "1  Founders Fund, Draper Fisher Jurvetson, Rothen...  \n",
       "2        Khosla Ventures, LowercaseCapital, capitalG  \n",
       "3  Institutional Venture Partners, Sequoia Capita...  \n",
       "4  Sequoia Capital China, Blackbird Ventures, Mat...  "
      ]
     },
     "execution_count": 31,
     "metadata": {},
     "output_type": "execute_result"
    }
   ],
   "source": [
    "# Exibe os primeiros 5 (cinco) registros do DataFrame\n",
    "df.head()"
   ]
  },
  {
   "cell_type": "markdown",
   "metadata": {},
   "source": [
    "É importante analisar também, as ultimas linhas do DataFrame. Para isso, podemos utilizar o método ```df.tail()```, que exibe os ultimos 5 (cinco) registros do DataFrame. Caso deseje exibir mais ou menos valores, basta enviar um valor numério inteiro para o método, como por exemplo ```df.tail(3)```, que exibe os ultimos 3 (três) registros."
   ]
  },
  {
   "cell_type": "code",
   "execution_count": 32,
   "metadata": {},
   "outputs": [
    {
     "data": {
      "text/html": [
       "<div>\n",
       "<style scoped>\n",
       "    .dataframe tbody tr th:only-of-type {\n",
       "        vertical-align: middle;\n",
       "    }\n",
       "\n",
       "    .dataframe tbody tr th {\n",
       "        vertical-align: top;\n",
       "    }\n",
       "\n",
       "    .dataframe thead th {\n",
       "        text-align: right;\n",
       "    }\n",
       "</style>\n",
       "<table border=\"1\" class=\"dataframe\">\n",
       "  <thead>\n",
       "    <tr style=\"text-align: right;\">\n",
       "      <th></th>\n",
       "      <th>Unnamed: 0</th>\n",
       "      <th>Company</th>\n",
       "      <th>Valuation ($B)</th>\n",
       "      <th>Date Joined</th>\n",
       "      <th>Country</th>\n",
       "      <th>City</th>\n",
       "      <th>Industry</th>\n",
       "      <th>Select Investors</th>\n",
       "    </tr>\n",
       "  </thead>\n",
       "  <tbody>\n",
       "    <tr>\n",
       "      <th>931</th>\n",
       "      <td>931</td>\n",
       "      <td>YipitData</td>\n",
       "      <td>$1</td>\n",
       "      <td>12/6/2021</td>\n",
       "      <td>United States</td>\n",
       "      <td>New York</td>\n",
       "      <td>Internet software &amp; services</td>\n",
       "      <td>RRE Ventures+, Highland Capital Partners, The ...</td>\n",
       "    </tr>\n",
       "    <tr>\n",
       "      <th>932</th>\n",
       "      <td>932</td>\n",
       "      <td>Anyscale</td>\n",
       "      <td>$1</td>\n",
       "      <td>12/7/2021</td>\n",
       "      <td>United States</td>\n",
       "      <td>Berkeley</td>\n",
       "      <td>Artificial Intelligence</td>\n",
       "      <td>Andreessen Horowitz, Intel Capital, Foundation...</td>\n",
       "    </tr>\n",
       "    <tr>\n",
       "      <th>933</th>\n",
       "      <td>933</td>\n",
       "      <td>Iodine Software</td>\n",
       "      <td>$1</td>\n",
       "      <td>12/1/2021</td>\n",
       "      <td>United States</td>\n",
       "      <td>Austin</td>\n",
       "      <td>Data management &amp; analytics</td>\n",
       "      <td>Advent International, Bain Capital Ventures, S...</td>\n",
       "    </tr>\n",
       "    <tr>\n",
       "      <th>934</th>\n",
       "      <td>934</td>\n",
       "      <td>ReliaQuest</td>\n",
       "      <td>$1</td>\n",
       "      <td>12/1/2021</td>\n",
       "      <td>United States</td>\n",
       "      <td>Tampa</td>\n",
       "      <td>Cybersecurity</td>\n",
       "      <td>KKR, FTV Capital, Ten Eleven Ventures</td>\n",
       "    </tr>\n",
       "    <tr>\n",
       "      <th>935</th>\n",
       "      <td>935</td>\n",
       "      <td>Pet Circle</td>\n",
       "      <td>$1</td>\n",
       "      <td>12/7/2021</td>\n",
       "      <td>Australia</td>\n",
       "      <td>Alexandria</td>\n",
       "      <td>E-commerce &amp; direct-to-consumer</td>\n",
       "      <td>Prysm Capital, Baillie Gifford &amp; Co., TDM Grow...</td>\n",
       "    </tr>\n",
       "  </tbody>\n",
       "</table>\n",
       "</div>"
      ],
      "text/plain": [
       "     Unnamed: 0          Company Valuation ($B) Date Joined        Country  \\\n",
       "931         931        YipitData             $1   12/6/2021  United States   \n",
       "932         932         Anyscale             $1   12/7/2021  United States   \n",
       "933         933  Iodine Software             $1   12/1/2021  United States   \n",
       "934         934       ReliaQuest             $1   12/1/2021  United States   \n",
       "935         935       Pet Circle             $1   12/7/2021      Australia   \n",
       "\n",
       "           City                         Industry  \\\n",
       "931    New York     Internet software & services   \n",
       "932    Berkeley          Artificial Intelligence   \n",
       "933      Austin      Data management & analytics   \n",
       "934       Tampa                    Cybersecurity   \n",
       "935  Alexandria  E-commerce & direct-to-consumer   \n",
       "\n",
       "                                      Select Investors  \n",
       "931  RRE Ventures+, Highland Capital Partners, The ...  \n",
       "932  Andreessen Horowitz, Intel Capital, Foundation...  \n",
       "933  Advent International, Bain Capital Ventures, S...  \n",
       "934              KKR, FTV Capital, Ten Eleven Ventures  \n",
       "935  Prysm Capital, Baillie Gifford & Co., TDM Grow...  "
      ]
     },
     "execution_count": 32,
     "metadata": {},
     "output_type": "execute_result"
    }
   ],
   "source": [
    "# Exibe os ultimos 5 (cinco) registros do DataFrame\n",
    "df.tail()"
   ]
  },
  {
   "cell_type": "markdown",
   "metadata": {},
   "source": [
    "Antes de prosseguirmos com as análises, realizaremos a alteração no nome das colunas para melhor visualização futura.\n",
    "1. Visualizamos apenas os nomes das colunas através do método ```df.columns```.\n",
    "2. Através do envio de um dicionário na função ```rename```, realizamos a alteração dos nomes das colunas e indicamos, com o parâmetro ```implace``` como ```True``` para que seja sobrescrito no próprio DataFrame."
   ]
  },
  {
   "cell_type": "code",
   "execution_count": 33,
   "metadata": {},
   "outputs": [
    {
     "data": {
      "text/plain": [
       "Index(['Unnamed: 0', 'Company', 'Valuation ($B)', 'Date Joined', 'Country',\n",
       "       'City', 'Industry', 'Select Investors'],\n",
       "      dtype='object')"
      ]
     },
     "execution_count": 33,
     "metadata": {},
     "output_type": "execute_result"
    }
   ],
   "source": [
    "# Exibe o nome das colunas do DataFrame\n",
    "df.columns"
   ]
  },
  {
   "cell_type": "code",
   "execution_count": 34,
   "metadata": {},
   "outputs": [
    {
     "data": {
      "text/plain": [
       "Index(['Id', 'Empresa', 'Valor ($B)', 'Data de Adesão', 'Pais', 'Cidade',\n",
       "       'Setor', 'Investidores'],\n",
       "      dtype='object')"
      ]
     },
     "execution_count": 34,
     "metadata": {},
     "output_type": "execute_result"
    }
   ],
   "source": [
    "# Renomeia as Colunas do DataFrame e sobrescreve o nome no próprio DataFrame\n",
    "df.rename(columns={\n",
    "    'Unnamed: 0' : 'Id',\n",
    "    'Company' : 'Empresa',\n",
    "    'Valuation ($B)' : 'Valor ($B)',\n",
    "    'Date Joined' : 'Data de Adesão',\n",
    "    'Country' : 'Pais',\n",
    "    'City' : 'Cidade',\n",
    "    'Industry': 'Setor',\n",
    "    'Select Investors': 'Investidores',\n",
    "}, inplace=True)\n",
    "\n",
    "df.columns"
   ]
  },
  {
   "cell_type": "markdown",
   "metadata": {},
   "source": [
    "Ao visualizar os primeiros dados, é possível verificar que, existem alguns valores que não estão adequados. Para certificar os tipos de dados em cada uma das colunas, executamos o comando abaixo e, comprovamos que os atributos ```Valor ($B)``` não é do tipo ```float``` (devido a presença do símbolo $ antes do valor) e o atributo ```Data de Adesão``` não é do tipo ```date``` (devido ao formato incorreto de data).\n",
    "\n",
    "Além destas observações, é possível notar que temos a presença de alguns campos nulos nos atributos ```Cidade```, que possui apenas 921 dados e no atributo ```Investidores```, que possui apenas 935 informações cadastradas. Vale ressaltar que possuimos, na nossa base de dados, **936 linhas**."
   ]
  },
  {
   "cell_type": "code",
   "execution_count": 35,
   "metadata": {},
   "outputs": [
    {
     "name": "stdout",
     "output_type": "stream",
     "text": [
      "<class 'pandas.core.frame.DataFrame'>\n",
      "RangeIndex: 936 entries, 0 to 935\n",
      "Data columns (total 8 columns):\n",
      " #   Column          Non-Null Count  Dtype \n",
      "---  ------          --------------  ----- \n",
      " 0   Id              936 non-null    int64 \n",
      " 1   Empresa         936 non-null    object\n",
      " 2   Valor ($B)      936 non-null    object\n",
      " 3   Data de Adesão  936 non-null    object\n",
      " 4   Pais            936 non-null    object\n",
      " 5   Cidade          921 non-null    object\n",
      " 6   Setor           936 non-null    object\n",
      " 7   Investidores    935 non-null    object\n",
      "dtypes: int64(1), object(7)\n",
      "memory usage: 58.6+ KB\n"
     ]
    }
   ],
   "source": [
    "# Verifica o tipo de informação armazenada em cada uma das colunas do DataFrame\n",
    "df.info()"
   ]
  },
  {
   "cell_type": "markdown",
   "metadata": {},
   "source": [
    "Observe que, ao realizar a contagem dos campos nulos do DataFrame, temos que faltam 15 cidades e 1 investidor que possuem valores nulos. A partir daí, cabe ao Analista verificar a importância destes dados, pois, existem diferentes métodos para lidar com a falta destes dados."
   ]
  },
  {
   "cell_type": "code",
   "execution_count": 36,
   "metadata": {},
   "outputs": [
    {
     "data": {
      "text/plain": [
       "Id                 0\n",
       "Empresa            0\n",
       "Valor ($B)         0\n",
       "Data de Adesão     0\n",
       "Pais               0\n",
       "Cidade            15\n",
       "Setor              0\n",
       "Investidores       1\n",
       "dtype: int64"
      ]
     },
     "execution_count": 36,
     "metadata": {},
     "output_type": "execute_result"
    }
   ],
   "source": [
    "# Verifica os campos nulos\n",
    "df.isnull().sum()"
   ]
  },
  {
   "cell_type": "markdown",
   "metadata": {},
   "source": [
    "Uma outra forma de visualização destes dados é através de um gráfico. Podemos utilizar o Seaborn para exibir algumas informações sobre estes dados. Cada um dos traços em branco representa um dado (ou conjunto de dados) que são nulos."
   ]
  },
  {
   "cell_type": "code",
   "execution_count": 37,
   "metadata": {},
   "outputs": [
    {
     "data": {
      "image/png": "[encoded data removed]",
      "text/plain": [
       "<Figure size 1500x600 with 1 Axes>"
      ]
     },
     "metadata": {},
     "output_type": "display_data"
    }
   ],
   "source": [
    "# Gráfico\n",
    "plt.figure(figsize=(15,6))\n",
    "plt.title('Análise de Campos Nulos')\n",
    "sns.heatmap(df.isnull(), cbar=False);"
   ]
  },
  {
   "cell_type": "markdown",
   "metadata": {},
   "source": [
    "**Opção 1**: Realizar a remoção da Coluna que possui os dados nulos\n",
    "\n",
    "Através do comando ```pandas.DataFrame.drop``` conseguimos realizar a exclusão da coluna ```Cidade``` e ```Investidores``` do DataFrame. Caso queira que esta alteração passe para o DataFrame, adiciona-se o parâmetro ```inplace=True```.\n",
    "\n",
    "No código abaixo, primeiramente, foi removido a coluna ```Cidade``` atribuindo a uma segunda variável e, posteriormente, com o parâmetro ```inplace=True```, realizou-se a retirada da coluna ```Investidores```.\n",
    "\n",
    "Vale ressaltar que, este método só está sendo utilizado por questões de **estudos** e não é indicado para o nosso caso, visto que perde-se cerca de **24,78%** de todos os dados do DataFrame ao excluir as colunas ```Cidade``` e ```Investidores```."
   ]
  },
  {
   "cell_type": "code",
   "execution_count": 38,
   "metadata": {},
   "outputs": [
    {
     "data": {
      "text/plain": [
       "Index(['Id', 'Empresa', 'Valor ($B)', 'Data de Adesão', 'Pais', 'Setor'], dtype='object')"
      ]
     },
     "execution_count": 38,
     "metadata": {},
     "output_type": "execute_result"
    }
   ],
   "source": [
    "# Remove a coluna 'Cidade' do DataFrame df e atribui a um novo DataFrame (df_aux)\n",
    "df_aux = df.drop('Cidade', axis=1)\n",
    "\n",
    "# Remove a coluna 'Investidores' do DataFrame df_aux e atribui a alteração diretamente no próprio DataFrame (inplace=True)\n",
    "df_aux.drop('Investidores', axis=1, inplace=True)\n",
    "\n",
    "# Exibe as colunas do df_aux, agora, sem a coluna 'Cidade'\n",
    "df_aux.columns"
   ]
  },
  {
   "cell_type": "code",
   "execution_count": 39,
   "metadata": {},
   "outputs": [
    {
     "data": {
      "text/plain": [
       "Id                0\n",
       "Empresa           0\n",
       "Valor ($B)        0\n",
       "Data de Adesão    0\n",
       "Pais              0\n",
       "Setor             0\n",
       "dtype: int64"
      ]
     },
     "execution_count": 39,
     "metadata": {},
     "output_type": "execute_result"
    }
   ],
   "source": [
    "# Verifica os campos nulos do novo DataFrame que está sem a coluna 'Cidade'\n",
    "df_aux.isnull().sum()"
   ]
  },
  {
   "cell_type": "markdown",
   "metadata": {},
   "source": [
    "\n",
    "**Opção 2**. Realizar a remoção da Linha que possui os dados nulos\n",
    "\n",
    "Esta opção já pode ser utilizada para o nosso caso. A perda das linhas podem não gerar perdas significativas **dependendo da futura aplicação**, visto que, para alguns recursos de inteligência artificial, tais dados podem significar a identificação de novos padrões ou auxiliar na métrica do algoritmo.\n",
    "\n",
    "De forma geral, a remoção de dados de um DataFrame quase sempre não é aconselhada pois podemos perder informações valiosas com a exclusão.\n",
    "\n",
    "Dado a ressalva, para realizar a remoção de uma linha que possui dados faltantes, utilizaremos, junto com o comando ```pandas.DataFrame.drop```, uma busca por valores nulos em cada uma das colunas, conforme exemplo abaixo."
   ]
  },
  {
   "cell_type": "code",
   "execution_count": 40,
   "metadata": {},
   "outputs": [
    {
     "data": {
      "text/plain": [
       "(920, 8)"
      ]
     },
     "execution_count": 40,
     "metadata": {},
     "output_type": "execute_result"
    }
   ],
   "source": [
    "# Realiza uma cópia do DataFrame inicial para não haver alterações nele\n",
    "df_aux = df.copy(deep=True)\n",
    "\n",
    "# Remove as linhas (index) que possuem valores nulos (NaN) na coluna 'Cidade' e salva as alterações no próprio DataFrame\n",
    "df_aux.drop(df_aux.loc[pd.isnull(df_aux['Cidade'])].index, inplace=True)\n",
    "\n",
    "# Remove as linhas (index) que possuem valores nulos (NaN) na coluna 'Cidade' e salva as alterações no próprio DataFrame\n",
    "df_aux.drop(df_aux.loc[pd.isnull(df_aux['Investidores'])].index, inplace=True)\n",
    "\n",
    "# Exibe o novo tamanho do DataFrame\n",
    "df_aux.shape"
   ]
  },
  {
   "cell_type": "code",
   "execution_count": 41,
   "metadata": {},
   "outputs": [
    {
     "data": {
      "text/plain": [
       "Id                0\n",
       "Empresa           0\n",
       "Valor ($B)        0\n",
       "Data de Adesão    0\n",
       "Pais              0\n",
       "Cidade            0\n",
       "Setor             0\n",
       "Investidores      0\n",
       "dtype: int64"
      ]
     },
     "execution_count": 41,
     "metadata": {},
     "output_type": "execute_result"
    }
   ],
   "source": [
    "# Verifica os campos nulos do novo DataFrame que está sem a coluna 'Cidade'\n",
    "df_aux.isnull().sum()"
   ]
  },
  {
   "cell_type": "markdown",
   "metadata": {},
   "source": [
    "Outra forma de eliminar as linhas que possuem, ao menos, um valor nulo é através do método ```dropna()```."
   ]
  },
  {
   "cell_type": "code",
   "execution_count": 42,
   "metadata": {},
   "outputs": [
    {
     "data": {
      "text/plain": [
       "(920, 8)"
      ]
     },
     "execution_count": 42,
     "metadata": {},
     "output_type": "execute_result"
    }
   ],
   "source": [
    "# Realiza uma cópia do DataFrame inicial para não haver alterações nele\n",
    "df_aux = df.copy(deep=True)\n",
    "\n",
    "# Remove as linhas que possuem ao menos um valor nulo (NaN)\n",
    "df_aux.dropna(inplace=True)\n",
    "\n",
    "# Exibe o novo tamanho do DataFrame\n",
    "df_aux.shape"
   ]
  },
  {
   "cell_type": "code",
   "execution_count": 43,
   "metadata": {},
   "outputs": [
    {
     "data": {
      "text/plain": [
       "Id                0\n",
       "Empresa           0\n",
       "Valor ($B)        0\n",
       "Data de Adesão    0\n",
       "Pais              0\n",
       "Cidade            0\n",
       "Setor             0\n",
       "Investidores      0\n",
       "dtype: int64"
      ]
     },
     "execution_count": 43,
     "metadata": {},
     "output_type": "execute_result"
    }
   ],
   "source": [
    "# Verifica os campos nulos do novo DataFrame que está sem a coluna 'Cidade'\n",
    "df_aux.isnull().sum()"
   ]
  },
  {
   "cell_type": "markdown",
   "metadata": {},
   "source": [
    "**Opção 3**. Substituir os valores faltantes pela média de valores da Coluna\n",
    "\n",
    "Para os casos de variáveis do tipo numéricas, esta abordagem torna-se bem simples, bastando realizar a média numérica de acordo com os dados da coluna e substituir os valores faltantes (NaN) pela média.\n",
    "\n",
    "Já para dados Categóricos, isso passa a ser uma abordagem complexa. Para essa base de dados, é inviável realizar tal substituição, visto que os atributos que estão com falta de dados, são do tipo categóricos e são relevantes para a consistência dos dados."
   ]
  },
  {
   "cell_type": "markdown",
   "metadata": {},
   "source": [
    "**Opção 4**. Alterar cada um dos dados manualmente através da obtenção das informações\n",
    "\n",
    "Para uma base de dados \"pequena\" com poucas faltas, seria uma ótima abordagem completar a base de dados através da obtenção das informações faltantes, sendo esta, a melhor abordagem de todas. Porém, nem sempre este requisito é atendido, devido a falta de informações disponíveis ou, dependendo da quantidade de dados faltantes, da inviabilidade de obter tais informações.\n",
    "\n",
    "Para verificar quais linhas possuem os dados faltantes e para simular a incerção destes dados no DataFrame, basta filtrar de acordo com a coluna desejada, conforme já realizado anteriormente."
   ]
  },
  {
   "cell_type": "code",
   "execution_count": 44,
   "metadata": {},
   "outputs": [
    {
     "data": {
      "text/html": [
       "<div>\n",
       "<style scoped>\n",
       "    .dataframe tbody tr th:only-of-type {\n",
       "        vertical-align: middle;\n",
       "    }\n",
       "\n",
       "    .dataframe tbody tr th {\n",
       "        vertical-align: top;\n",
       "    }\n",
       "\n",
       "    .dataframe thead th {\n",
       "        text-align: right;\n",
       "    }\n",
       "</style>\n",
       "<table border=\"1\" class=\"dataframe\">\n",
       "  <thead>\n",
       "    <tr style=\"text-align: right;\">\n",
       "      <th></th>\n",
       "      <th>Id</th>\n",
       "      <th>Empresa</th>\n",
       "      <th>Valor ($B)</th>\n",
       "      <th>Data de Adesão</th>\n",
       "      <th>Pais</th>\n",
       "      <th>Cidade</th>\n",
       "      <th>Setor</th>\n",
       "      <th>Investidores</th>\n",
       "    </tr>\n",
       "  </thead>\n",
       "  <tbody>\n",
       "    <tr>\n",
       "      <th>11</th>\n",
       "      <td>11</td>\n",
       "      <td>FTX</td>\n",
       "      <td>$25</td>\n",
       "      <td>7/20/2021</td>\n",
       "      <td>Hong Kong</td>\n",
       "      <td>NaN</td>\n",
       "      <td>Fintech</td>\n",
       "      <td>Sequoia Capital, Thoma Bravo, Softbank</td>\n",
       "    </tr>\n",
       "    <tr>\n",
       "      <th>192</th>\n",
       "      <td>192</td>\n",
       "      <td>HyalRoute</td>\n",
       "      <td>$3.5</td>\n",
       "      <td>5/26/2020</td>\n",
       "      <td>Singapore</td>\n",
       "      <td>NaN</td>\n",
       "      <td>Mobile &amp; telecommunications</td>\n",
       "      <td>Kuang-Chi</td>\n",
       "    </tr>\n",
       "    <tr>\n",
       "      <th>399</th>\n",
       "      <td>399</td>\n",
       "      <td>Advance Intelligence Group</td>\n",
       "      <td>$2</td>\n",
       "      <td>9/23/2021</td>\n",
       "      <td>Singapore</td>\n",
       "      <td>NaN</td>\n",
       "      <td>Artificial intelligence</td>\n",
       "      <td>Vision Plus Capital, GSR Ventures, ZhenFund</td>\n",
       "    </tr>\n",
       "    <tr>\n",
       "      <th>572</th>\n",
       "      <td>572</td>\n",
       "      <td>Trax</td>\n",
       "      <td>$1.3</td>\n",
       "      <td>7/22/2019</td>\n",
       "      <td>Singapore</td>\n",
       "      <td>NaN</td>\n",
       "      <td>Artificial intelligence</td>\n",
       "      <td>Hopu Investment Management, Boyu Capital, DC T...</td>\n",
       "    </tr>\n",
       "    <tr>\n",
       "      <th>677</th>\n",
       "      <td>677</td>\n",
       "      <td>Amber Group</td>\n",
       "      <td>$1.1</td>\n",
       "      <td>6/21/2021</td>\n",
       "      <td>Hong Kong</td>\n",
       "      <td>NaN</td>\n",
       "      <td>Fintech</td>\n",
       "      <td>Tiger Global Management, Tiger Brokers, DCM Ve...</td>\n",
       "    </tr>\n",
       "    <tr>\n",
       "      <th>682</th>\n",
       "      <td>682</td>\n",
       "      <td>Carousell</td>\n",
       "      <td>$1.1</td>\n",
       "      <td>9/15/2021</td>\n",
       "      <td>Singapore</td>\n",
       "      <td>NaN</td>\n",
       "      <td>E-commerce &amp; direct-to-consumer</td>\n",
       "      <td>500 Global, Rakuten Ventures, Golden Gate Vent...</td>\n",
       "    </tr>\n",
       "    <tr>\n",
       "      <th>710</th>\n",
       "      <td>710</td>\n",
       "      <td>LinkSure Network</td>\n",
       "      <td>$1</td>\n",
       "      <td>1/1/2015</td>\n",
       "      <td>China</td>\n",
       "      <td>Shanghai</td>\n",
       "      <td>Mobile &amp; telecommunications</td>\n",
       "      <td>NaN</td>\n",
       "    </tr>\n",
       "    <tr>\n",
       "      <th>735</th>\n",
       "      <td>735</td>\n",
       "      <td>WeLab</td>\n",
       "      <td>$1</td>\n",
       "      <td>11/8/2017</td>\n",
       "      <td>Hong Kong</td>\n",
       "      <td>NaN</td>\n",
       "      <td>Fintech</td>\n",
       "      <td>Sequoia Capital China, ING, Alibaba Entreprene...</td>\n",
       "    </tr>\n",
       "    <tr>\n",
       "      <th>812</th>\n",
       "      <td>812</td>\n",
       "      <td>PatSnap</td>\n",
       "      <td>$1</td>\n",
       "      <td>3/16/2021</td>\n",
       "      <td>Singapore</td>\n",
       "      <td>NaN</td>\n",
       "      <td>Internet software &amp; services</td>\n",
       "      <td>Sequoia Capital China, Shunwei Capital Partner...</td>\n",
       "    </tr>\n",
       "    <tr>\n",
       "      <th>840</th>\n",
       "      <td>840</td>\n",
       "      <td>Moglix</td>\n",
       "      <td>$1</td>\n",
       "      <td>5/17/2021</td>\n",
       "      <td>Singapore</td>\n",
       "      <td>NaN</td>\n",
       "      <td>E-commerce &amp; direct-to-consumer</td>\n",
       "      <td>Jungle Ventures, Accel, Venture Highway</td>\n",
       "    </tr>\n",
       "    <tr>\n",
       "      <th>843</th>\n",
       "      <td>843</td>\n",
       "      <td>Matrixport</td>\n",
       "      <td>$1</td>\n",
       "      <td>6/1/2021</td>\n",
       "      <td>Singapore</td>\n",
       "      <td>NaN</td>\n",
       "      <td>Fintech</td>\n",
       "      <td>Dragonfly Captial, Qiming Venture Partners, DS...</td>\n",
       "    </tr>\n",
       "    <tr>\n",
       "      <th>848</th>\n",
       "      <td>848</td>\n",
       "      <td>Carro</td>\n",
       "      <td>$1</td>\n",
       "      <td>6/14/2021</td>\n",
       "      <td>Singapore</td>\n",
       "      <td>NaN</td>\n",
       "      <td>E-commerce &amp; direct-to-consumer</td>\n",
       "      <td>SingTel Innov8, Alpha JWC Ventures, Golden Gat...</td>\n",
       "    </tr>\n",
       "    <tr>\n",
       "      <th>861</th>\n",
       "      <td>861</td>\n",
       "      <td>bolttech</td>\n",
       "      <td>$1</td>\n",
       "      <td>7/1/2021</td>\n",
       "      <td>Singapore</td>\n",
       "      <td>NaN</td>\n",
       "      <td>Fintech</td>\n",
       "      <td>Mundi Ventures, Doqling Capital Partners, Acti...</td>\n",
       "    </tr>\n",
       "    <tr>\n",
       "      <th>872</th>\n",
       "      <td>872</td>\n",
       "      <td>NIUM</td>\n",
       "      <td>$1</td>\n",
       "      <td>7/13/2021</td>\n",
       "      <td>Singapore</td>\n",
       "      <td>NaN</td>\n",
       "      <td>Fintech</td>\n",
       "      <td>Vertex Ventures SE Asia, Global Founders Capit...</td>\n",
       "    </tr>\n",
       "    <tr>\n",
       "      <th>885</th>\n",
       "      <td>885</td>\n",
       "      <td>Cider</td>\n",
       "      <td>$1</td>\n",
       "      <td>9/2/2021</td>\n",
       "      <td>Hong Kong</td>\n",
       "      <td>NaN</td>\n",
       "      <td>E-commerce &amp; direct-to-consumer</td>\n",
       "      <td>Andreessen Horowitz, DST Global, IDG Capital</td>\n",
       "    </tr>\n",
       "    <tr>\n",
       "      <th>897</th>\n",
       "      <td>897</td>\n",
       "      <td>Ninja Van</td>\n",
       "      <td>$1</td>\n",
       "      <td>9/27/2021</td>\n",
       "      <td>Singapore</td>\n",
       "      <td>NaN</td>\n",
       "      <td>Supply chain, logistics, &amp; delivery</td>\n",
       "      <td>B Capital Group, Monk's Hill Ventures, Dynamic...</td>\n",
       "    </tr>\n",
       "  </tbody>\n",
       "</table>\n",
       "</div>"
      ],
      "text/plain": [
       "      Id                     Empresa Valor ($B) Data de Adesão       Pais  \\\n",
       "11    11                         FTX        $25      7/20/2021  Hong Kong   \n",
       "192  192                   HyalRoute       $3.5      5/26/2020  Singapore   \n",
       "399  399  Advance Intelligence Group         $2      9/23/2021  Singapore   \n",
       "572  572                        Trax       $1.3      7/22/2019  Singapore   \n",
       "677  677                 Amber Group       $1.1      6/21/2021  Hong Kong   \n",
       "682  682                   Carousell       $1.1      9/15/2021  Singapore   \n",
       "710  710            LinkSure Network         $1       1/1/2015      China   \n",
       "735  735                       WeLab         $1      11/8/2017  Hong Kong   \n",
       "812  812                     PatSnap         $1      3/16/2021  Singapore   \n",
       "840  840                      Moglix         $1      5/17/2021  Singapore   \n",
       "843  843                  Matrixport         $1       6/1/2021  Singapore   \n",
       "848  848                       Carro         $1      6/14/2021  Singapore   \n",
       "861  861                    bolttech         $1       7/1/2021  Singapore   \n",
       "872  872                        NIUM         $1      7/13/2021  Singapore   \n",
       "885  885                       Cider         $1       9/2/2021  Hong Kong   \n",
       "897  897                   Ninja Van         $1      9/27/2021  Singapore   \n",
       "\n",
       "       Cidade                                Setor  \\\n",
       "11        NaN                              Fintech   \n",
       "192       NaN          Mobile & telecommunications   \n",
       "399       NaN              Artificial intelligence   \n",
       "572       NaN              Artificial intelligence   \n",
       "677       NaN                              Fintech   \n",
       "682       NaN      E-commerce & direct-to-consumer   \n",
       "710  Shanghai          Mobile & telecommunications   \n",
       "735       NaN                              Fintech   \n",
       "812       NaN         Internet software & services   \n",
       "840       NaN      E-commerce & direct-to-consumer   \n",
       "843       NaN                              Fintech   \n",
       "848       NaN      E-commerce & direct-to-consumer   \n",
       "861       NaN                              Fintech   \n",
       "872       NaN                              Fintech   \n",
       "885       NaN      E-commerce & direct-to-consumer   \n",
       "897       NaN  Supply chain, logistics, & delivery   \n",
       "\n",
       "                                          Investidores  \n",
       "11              Sequoia Capital, Thoma Bravo, Softbank  \n",
       "192                                          Kuang-Chi  \n",
       "399        Vision Plus Capital, GSR Ventures, ZhenFund  \n",
       "572  Hopu Investment Management, Boyu Capital, DC T...  \n",
       "677  Tiger Global Management, Tiger Brokers, DCM Ve...  \n",
       "682  500 Global, Rakuten Ventures, Golden Gate Vent...  \n",
       "710                                                NaN  \n",
       "735  Sequoia Capital China, ING, Alibaba Entreprene...  \n",
       "812  Sequoia Capital China, Shunwei Capital Partner...  \n",
       "840            Jungle Ventures, Accel, Venture Highway  \n",
       "843  Dragonfly Captial, Qiming Venture Partners, DS...  \n",
       "848  SingTel Innov8, Alpha JWC Ventures, Golden Gat...  \n",
       "861  Mundi Ventures, Doqling Capital Partners, Acti...  \n",
       "872  Vertex Ventures SE Asia, Global Founders Capit...  \n",
       "885       Andreessen Horowitz, DST Global, IDG Capital  \n",
       "897  B Capital Group, Monk's Hill Ventures, Dynamic...  "
      ]
     },
     "execution_count": 44,
     "metadata": {},
     "output_type": "execute_result"
    }
   ],
   "source": [
    "# Realiza uma cópia do DataFrame inicial para não haver alterações nele\n",
    "df_aux = df.copy(deep=True)\n",
    "\n",
    "# Exibe as linhas (index) que possuem ao menos um valor nulo (NaN) no DataFrame\n",
    "df_aux[df_aux.isna().any(axis=1)]"
   ]
  },
  {
   "cell_type": "markdown",
   "metadata": {},
   "source": [
    "Ao analisar os dados faltantes, podemos verificar que a Base de Dados possui erros no processo de incersão dos dados. Observe que na coluna \"Pais\" encontramos valores como \"Hong Kong\", sendo estes, cidades e não países.\n",
    "\n",
    "Para analisar mais prontamente esta base de dados, será necessário verificar os dados categóricos por agrupamento."
   ]
  },
  {
   "cell_type": "code",
   "execution_count": 45,
   "metadata": {},
   "outputs": [
    {
     "data": {
      "text/plain": [
       "Pais\n",
       "Argentina                 1\n",
       "Australia                 6\n",
       "Austria                   2\n",
       "Belgium                   2\n",
       "Bermuda                   1\n",
       "Brazil                   15\n",
       "Canada                   15\n",
       "Chile                     1\n",
       "China                   169\n",
       "Colombia                  2\n",
       "Croatia                   1\n",
       "Czech Republic            1\n",
       "Denmark                   2\n",
       "Estonia                   1\n",
       "Finland                   2\n",
       "France                   19\n",
       "Germany                  23\n",
       "Hong Kong                 7\n",
       "India                    51\n",
       "Indonesia                 4\n",
       "Indonesia,                1\n",
       "Ireland                   3\n",
       "Israel                   21\n",
       "Japan                     6\n",
       "Lithuania                 1\n",
       "Luxembourg                1\n",
       "Malaysia                  1\n",
       "Mexico                    5\n",
       "Netherlands               5\n",
       "Nigeria                   1\n",
       "Norway                    3\n",
       "Philippines               2\n",
       "Santa Clara               1\n",
       "Senegal                   1\n",
       "Singapore                11\n",
       "South Africa              2\n",
       "South Korea              11\n",
       "Spain                     4\n",
       "Sweden                    4\n",
       "Switzerland               4\n",
       "Thailand                  2\n",
       "Turkey                    2\n",
       "United Arab Emirates      3\n",
       "United Kingdom           37\n",
       "United States           477\n",
       "United States,            1\n",
       "Vietnam                   1\n",
       "Name: Id, dtype: int64"
      ]
     },
     "execution_count": 45,
     "metadata": {},
     "output_type": "execute_result"
    }
   ],
   "source": [
    "df.groupby('Pais')['Id'].count()"
   ]
  },
  {
   "cell_type": "markdown",
   "metadata": {},
   "source": [
    "Realização de Algumas alterações nos campos\n",
    "1. Modificou-se as vezes em que 'United States,' aparecia, removendo a vírgula\n",
    "2. Idem item anterior para Indonesia\n",
    "3. Onde aparecia Hong Kong como país, foi atribuido como cidade\n",
    "4. Alterou o país Hong Kong por China"
   ]
  },
  {
   "cell_type": "code",
   "execution_count": 46,
   "metadata": {},
   "outputs": [],
   "source": [
    "df.loc[df['Pais'] == 'United States,', 'Pais'] = 'United States'\n",
    "df.loc[df['Pais'] == 'Indonesia,', 'Pais'] = 'Indonesia'\n",
    "df.loc[df['Pais'] == 'Hong Kong', 'Cidade'] = 'Hong Kong'\n",
    "df.loc[df['Pais'] == 'Hong Kong', 'Pais'] = 'China'"
   ]
  },
  {
   "cell_type": "code",
   "execution_count": 47,
   "metadata": {},
   "outputs": [
    {
     "data": {
      "text/plain": [
       "Pais\n",
       "Argentina                 1\n",
       "Australia                 6\n",
       "Austria                   2\n",
       "Belgium                   2\n",
       "Bermuda                   1\n",
       "Brazil                   15\n",
       "Canada                   15\n",
       "Chile                     1\n",
       "China                   176\n",
       "Colombia                  2\n",
       "Croatia                   1\n",
       "Czech Republic            1\n",
       "Denmark                   2\n",
       "Estonia                   1\n",
       "Finland                   2\n",
       "France                   19\n",
       "Germany                  23\n",
       "India                    51\n",
       "Indonesia                 5\n",
       "Ireland                   3\n",
       "Israel                   21\n",
       "Japan                     6\n",
       "Lithuania                 1\n",
       "Luxembourg                1\n",
       "Malaysia                  1\n",
       "Mexico                    5\n",
       "Netherlands               5\n",
       "Nigeria                   1\n",
       "Norway                    3\n",
       "Philippines               2\n",
       "Santa Clara               1\n",
       "Senegal                   1\n",
       "Singapore                11\n",
       "South Africa              2\n",
       "South Korea              11\n",
       "Spain                     4\n",
       "Sweden                    4\n",
       "Switzerland               4\n",
       "Thailand                  2\n",
       "Turkey                    2\n",
       "United Arab Emirates      3\n",
       "United Kingdom           37\n",
       "United States           478\n",
       "Vietnam                   1\n",
       "Name: Id, dtype: int64"
      ]
     },
     "execution_count": 47,
     "metadata": {},
     "output_type": "execute_result"
    }
   ],
   "source": [
    "df.groupby('Pais')['Id'].count()"
   ]
  },
  {
   "cell_type": "code",
   "execution_count": 48,
   "metadata": {},
   "outputs": [
    {
     "data": {
      "text/html": [
       "<div>\n",
       "<style scoped>\n",
       "    .dataframe tbody tr th:only-of-type {\n",
       "        vertical-align: middle;\n",
       "    }\n",
       "\n",
       "    .dataframe tbody tr th {\n",
       "        vertical-align: top;\n",
       "    }\n",
       "\n",
       "    .dataframe thead th {\n",
       "        text-align: right;\n",
       "    }\n",
       "</style>\n",
       "<table border=\"1\" class=\"dataframe\">\n",
       "  <thead>\n",
       "    <tr style=\"text-align: right;\">\n",
       "      <th></th>\n",
       "      <th>Id</th>\n",
       "      <th>Empresa</th>\n",
       "      <th>Valor ($B)</th>\n",
       "      <th>Data de Adesão</th>\n",
       "      <th>Pais</th>\n",
       "      <th>Cidade</th>\n",
       "      <th>Setor</th>\n",
       "      <th>Investidores</th>\n",
       "    </tr>\n",
       "  </thead>\n",
       "  <tbody>\n",
       "    <tr>\n",
       "      <th>192</th>\n",
       "      <td>192</td>\n",
       "      <td>HyalRoute</td>\n",
       "      <td>$3.5</td>\n",
       "      <td>5/26/2020</td>\n",
       "      <td>Singapore</td>\n",
       "      <td>NaN</td>\n",
       "      <td>Mobile &amp; telecommunications</td>\n",
       "      <td>Kuang-Chi</td>\n",
       "    </tr>\n",
       "    <tr>\n",
       "      <th>399</th>\n",
       "      <td>399</td>\n",
       "      <td>Advance Intelligence Group</td>\n",
       "      <td>$2</td>\n",
       "      <td>9/23/2021</td>\n",
       "      <td>Singapore</td>\n",
       "      <td>NaN</td>\n",
       "      <td>Artificial intelligence</td>\n",
       "      <td>Vision Plus Capital, GSR Ventures, ZhenFund</td>\n",
       "    </tr>\n",
       "    <tr>\n",
       "      <th>572</th>\n",
       "      <td>572</td>\n",
       "      <td>Trax</td>\n",
       "      <td>$1.3</td>\n",
       "      <td>7/22/2019</td>\n",
       "      <td>Singapore</td>\n",
       "      <td>NaN</td>\n",
       "      <td>Artificial intelligence</td>\n",
       "      <td>Hopu Investment Management, Boyu Capital, DC T...</td>\n",
       "    </tr>\n",
       "    <tr>\n",
       "      <th>682</th>\n",
       "      <td>682</td>\n",
       "      <td>Carousell</td>\n",
       "      <td>$1.1</td>\n",
       "      <td>9/15/2021</td>\n",
       "      <td>Singapore</td>\n",
       "      <td>NaN</td>\n",
       "      <td>E-commerce &amp; direct-to-consumer</td>\n",
       "      <td>500 Global, Rakuten Ventures, Golden Gate Vent...</td>\n",
       "    </tr>\n",
       "    <tr>\n",
       "      <th>710</th>\n",
       "      <td>710</td>\n",
       "      <td>LinkSure Network</td>\n",
       "      <td>$1</td>\n",
       "      <td>1/1/2015</td>\n",
       "      <td>China</td>\n",
       "      <td>Shanghai</td>\n",
       "      <td>Mobile &amp; telecommunications</td>\n",
       "      <td>NaN</td>\n",
       "    </tr>\n",
       "    <tr>\n",
       "      <th>812</th>\n",
       "      <td>812</td>\n",
       "      <td>PatSnap</td>\n",
       "      <td>$1</td>\n",
       "      <td>3/16/2021</td>\n",
       "      <td>Singapore</td>\n",
       "      <td>NaN</td>\n",
       "      <td>Internet software &amp; services</td>\n",
       "      <td>Sequoia Capital China, Shunwei Capital Partner...</td>\n",
       "    </tr>\n",
       "    <tr>\n",
       "      <th>840</th>\n",
       "      <td>840</td>\n",
       "      <td>Moglix</td>\n",
       "      <td>$1</td>\n",
       "      <td>5/17/2021</td>\n",
       "      <td>Singapore</td>\n",
       "      <td>NaN</td>\n",
       "      <td>E-commerce &amp; direct-to-consumer</td>\n",
       "      <td>Jungle Ventures, Accel, Venture Highway</td>\n",
       "    </tr>\n",
       "    <tr>\n",
       "      <th>843</th>\n",
       "      <td>843</td>\n",
       "      <td>Matrixport</td>\n",
       "      <td>$1</td>\n",
       "      <td>6/1/2021</td>\n",
       "      <td>Singapore</td>\n",
       "      <td>NaN</td>\n",
       "      <td>Fintech</td>\n",
       "      <td>Dragonfly Captial, Qiming Venture Partners, DS...</td>\n",
       "    </tr>\n",
       "    <tr>\n",
       "      <th>848</th>\n",
       "      <td>848</td>\n",
       "      <td>Carro</td>\n",
       "      <td>$1</td>\n",
       "      <td>6/14/2021</td>\n",
       "      <td>Singapore</td>\n",
       "      <td>NaN</td>\n",
       "      <td>E-commerce &amp; direct-to-consumer</td>\n",
       "      <td>SingTel Innov8, Alpha JWC Ventures, Golden Gat...</td>\n",
       "    </tr>\n",
       "    <tr>\n",
       "      <th>861</th>\n",
       "      <td>861</td>\n",
       "      <td>bolttech</td>\n",
       "      <td>$1</td>\n",
       "      <td>7/1/2021</td>\n",
       "      <td>Singapore</td>\n",
       "      <td>NaN</td>\n",
       "      <td>Fintech</td>\n",
       "      <td>Mundi Ventures, Doqling Capital Partners, Acti...</td>\n",
       "    </tr>\n",
       "    <tr>\n",
       "      <th>872</th>\n",
       "      <td>872</td>\n",
       "      <td>NIUM</td>\n",
       "      <td>$1</td>\n",
       "      <td>7/13/2021</td>\n",
       "      <td>Singapore</td>\n",
       "      <td>NaN</td>\n",
       "      <td>Fintech</td>\n",
       "      <td>Vertex Ventures SE Asia, Global Founders Capit...</td>\n",
       "    </tr>\n",
       "    <tr>\n",
       "      <th>897</th>\n",
       "      <td>897</td>\n",
       "      <td>Ninja Van</td>\n",
       "      <td>$1</td>\n",
       "      <td>9/27/2021</td>\n",
       "      <td>Singapore</td>\n",
       "      <td>NaN</td>\n",
       "      <td>Supply chain, logistics, &amp; delivery</td>\n",
       "      <td>B Capital Group, Monk's Hill Ventures, Dynamic...</td>\n",
       "    </tr>\n",
       "  </tbody>\n",
       "</table>\n",
       "</div>"
      ],
      "text/plain": [
       "      Id                     Empresa Valor ($B) Data de Adesão       Pais  \\\n",
       "192  192                   HyalRoute       $3.5      5/26/2020  Singapore   \n",
       "399  399  Advance Intelligence Group         $2      9/23/2021  Singapore   \n",
       "572  572                        Trax       $1.3      7/22/2019  Singapore   \n",
       "682  682                   Carousell       $1.1      9/15/2021  Singapore   \n",
       "710  710            LinkSure Network         $1       1/1/2015      China   \n",
       "812  812                     PatSnap         $1      3/16/2021  Singapore   \n",
       "840  840                      Moglix         $1      5/17/2021  Singapore   \n",
       "843  843                  Matrixport         $1       6/1/2021  Singapore   \n",
       "848  848                       Carro         $1      6/14/2021  Singapore   \n",
       "861  861                    bolttech         $1       7/1/2021  Singapore   \n",
       "872  872                        NIUM         $1      7/13/2021  Singapore   \n",
       "897  897                   Ninja Van         $1      9/27/2021  Singapore   \n",
       "\n",
       "       Cidade                                Setor  \\\n",
       "192       NaN          Mobile & telecommunications   \n",
       "399       NaN              Artificial intelligence   \n",
       "572       NaN              Artificial intelligence   \n",
       "682       NaN      E-commerce & direct-to-consumer   \n",
       "710  Shanghai          Mobile & telecommunications   \n",
       "812       NaN         Internet software & services   \n",
       "840       NaN      E-commerce & direct-to-consumer   \n",
       "843       NaN                              Fintech   \n",
       "848       NaN      E-commerce & direct-to-consumer   \n",
       "861       NaN                              Fintech   \n",
       "872       NaN                              Fintech   \n",
       "897       NaN  Supply chain, logistics, & delivery   \n",
       "\n",
       "                                          Investidores  \n",
       "192                                          Kuang-Chi  \n",
       "399        Vision Plus Capital, GSR Ventures, ZhenFund  \n",
       "572  Hopu Investment Management, Boyu Capital, DC T...  \n",
       "682  500 Global, Rakuten Ventures, Golden Gate Vent...  \n",
       "710                                                NaN  \n",
       "812  Sequoia Capital China, Shunwei Capital Partner...  \n",
       "840            Jungle Ventures, Accel, Venture Highway  \n",
       "843  Dragonfly Captial, Qiming Venture Partners, DS...  \n",
       "848  SingTel Innov8, Alpha JWC Ventures, Golden Gat...  \n",
       "861  Mundi Ventures, Doqling Capital Partners, Acti...  \n",
       "872  Vertex Ventures SE Asia, Global Founders Capit...  \n",
       "897  B Capital Group, Monk's Hill Ventures, Dynamic...  "
      ]
     },
     "execution_count": 48,
     "metadata": {},
     "output_type": "execute_result"
    }
   ],
   "source": [
    "df[df.isna().any(axis=1)]"
   ]
  },
  {
   "cell_type": "markdown",
   "metadata": {},
   "source": [
    "Como opção escolhida, resolveu-se remover as linhas (rows) que possuem dados nulos da base de dados."
   ]
  },
  {
   "cell_type": "code",
   "execution_count": 49,
   "metadata": {},
   "outputs": [
    {
     "data": {
      "text/plain": [
       "(924, 8)"
      ]
     },
     "execution_count": 49,
     "metadata": {},
     "output_type": "execute_result"
    }
   ],
   "source": [
    "# Remove as linhas que possuem ao menos uma informação vazia\n",
    "df.dropna(inplace=True, ignore_index=True)\n",
    "\n",
    "# Exibe o tamanho da base de dados após a remoção das linhas\n",
    "df.shape"
   ]
  },
  {
   "cell_type": "code",
   "execution_count": 50,
   "metadata": {},
   "outputs": [
    {
     "data": {
      "text/html": [
       "<div>\n",
       "<style scoped>\n",
       "    .dataframe tbody tr th:only-of-type {\n",
       "        vertical-align: middle;\n",
       "    }\n",
       "\n",
       "    .dataframe tbody tr th {\n",
       "        vertical-align: top;\n",
       "    }\n",
       "\n",
       "    .dataframe thead th {\n",
       "        text-align: right;\n",
       "    }\n",
       "</style>\n",
       "<table border=\"1\" class=\"dataframe\">\n",
       "  <thead>\n",
       "    <tr style=\"text-align: right;\">\n",
       "      <th></th>\n",
       "      <th>Id</th>\n",
       "      <th>Empresa</th>\n",
       "      <th>Valor ($B)</th>\n",
       "      <th>Data de Adesão</th>\n",
       "      <th>Pais</th>\n",
       "      <th>Cidade</th>\n",
       "      <th>Setor</th>\n",
       "      <th>Investidores</th>\n",
       "    </tr>\n",
       "  </thead>\n",
       "  <tbody>\n",
       "  </tbody>\n",
       "</table>\n",
       "</div>"
      ],
      "text/plain": [
       "Empty DataFrame\n",
       "Columns: [Id, Empresa, Valor ($B), Data de Adesão, Pais, Cidade, Setor, Investidores]\n",
       "Index: []"
      ]
     },
     "execution_count": 50,
     "metadata": {},
     "output_type": "execute_result"
    }
   ],
   "source": [
    "# Exibe as linhas que possuem dados nulos. Observe que não há informações exibidas.\n",
    "df[df.isna().any(axis=1)]"
   ]
  },
  {
   "cell_type": "code",
   "execution_count": 51,
   "metadata": {},
   "outputs": [
    {
     "data": {
      "text/html": [
       "<div>\n",
       "<style scoped>\n",
       "    .dataframe tbody tr th:only-of-type {\n",
       "        vertical-align: middle;\n",
       "    }\n",
       "\n",
       "    .dataframe tbody tr th {\n",
       "        vertical-align: top;\n",
       "    }\n",
       "\n",
       "    .dataframe thead th {\n",
       "        text-align: right;\n",
       "    }\n",
       "</style>\n",
       "<table border=\"1\" class=\"dataframe\">\n",
       "  <thead>\n",
       "    <tr style=\"text-align: right;\">\n",
       "      <th></th>\n",
       "      <th>Id</th>\n",
       "      <th>Empresa</th>\n",
       "      <th>Valor ($B)</th>\n",
       "      <th>Data de Adesão</th>\n",
       "      <th>Pais</th>\n",
       "      <th>Cidade</th>\n",
       "      <th>Setor</th>\n",
       "      <th>Investidores</th>\n",
       "    </tr>\n",
       "  </thead>\n",
       "  <tbody>\n",
       "    <tr>\n",
       "      <th>0</th>\n",
       "      <td>0</td>\n",
       "      <td>Bytedance</td>\n",
       "      <td>$140</td>\n",
       "      <td>4/7/2017</td>\n",
       "      <td>China</td>\n",
       "      <td>Beijing</td>\n",
       "      <td>Artificial intelligence</td>\n",
       "      <td>Sequoia Capital China, SIG Asia Investments, S...</td>\n",
       "    </tr>\n",
       "    <tr>\n",
       "      <th>1</th>\n",
       "      <td>1</td>\n",
       "      <td>SpaceX</td>\n",
       "      <td>$100.3</td>\n",
       "      <td>12/1/2012</td>\n",
       "      <td>United States</td>\n",
       "      <td>Hawthorne</td>\n",
       "      <td>Other</td>\n",
       "      <td>Founders Fund, Draper Fisher Jurvetson, Rothen...</td>\n",
       "    </tr>\n",
       "    <tr>\n",
       "      <th>2</th>\n",
       "      <td>2</td>\n",
       "      <td>Stripe</td>\n",
       "      <td>$95</td>\n",
       "      <td>1/23/2014</td>\n",
       "      <td>United States</td>\n",
       "      <td>San Francisco</td>\n",
       "      <td>Fintech</td>\n",
       "      <td>Khosla Ventures, LowercaseCapital, capitalG</td>\n",
       "    </tr>\n",
       "    <tr>\n",
       "      <th>3</th>\n",
       "      <td>3</td>\n",
       "      <td>Klarna</td>\n",
       "      <td>$45.6</td>\n",
       "      <td>12/12/2011</td>\n",
       "      <td>Sweden</td>\n",
       "      <td>Stockholm</td>\n",
       "      <td>Fintech</td>\n",
       "      <td>Institutional Venture Partners, Sequoia Capita...</td>\n",
       "    </tr>\n",
       "    <tr>\n",
       "      <th>4</th>\n",
       "      <td>4</td>\n",
       "      <td>Canva</td>\n",
       "      <td>$40</td>\n",
       "      <td>1/8/2018</td>\n",
       "      <td>Australia</td>\n",
       "      <td>Surry Hills</td>\n",
       "      <td>Internet software &amp; services</td>\n",
       "      <td>Sequoia Capital China, Blackbird Ventures, Mat...</td>\n",
       "    </tr>\n",
       "  </tbody>\n",
       "</table>\n",
       "</div>"
      ],
      "text/plain": [
       "   Id    Empresa Valor ($B) Data de Adesão           Pais         Cidade  \\\n",
       "0   0  Bytedance       $140       4/7/2017          China        Beijing   \n",
       "1   1     SpaceX     $100.3      12/1/2012  United States      Hawthorne   \n",
       "2   2     Stripe        $95      1/23/2014  United States  San Francisco   \n",
       "3   3     Klarna      $45.6     12/12/2011         Sweden      Stockholm   \n",
       "4   4      Canva        $40       1/8/2018      Australia    Surry Hills   \n",
       "\n",
       "                          Setor  \\\n",
       "0       Artificial intelligence   \n",
       "1                         Other   \n",
       "2                       Fintech   \n",
       "3                       Fintech   \n",
       "4  Internet software & services   \n",
       "\n",
       "                                        Investidores  \n",
       "0  Sequoia Capital China, SIG Asia Investments, S...  \n",
       "1  Founders Fund, Draper Fisher Jurvetson, Rothen...  \n",
       "2        Khosla Ventures, LowercaseCapital, capitalG  \n",
       "3  Institutional Venture Partners, Sequoia Capita...  \n",
       "4  Sequoia Capital China, Blackbird Ventures, Mat...  "
      ]
     },
     "execution_count": 51,
     "metadata": {},
     "output_type": "execute_result"
    }
   ],
   "source": [
    "# Exibe os primeiros 5 (cinco) registros do DataFrame\n",
    "df.head()"
   ]
  },
  {
   "cell_type": "markdown",
   "metadata": {},
   "source": [
    "Vamos analisar o campo Setor. Observe que, temos o termo 'Fintech' aparecendo 187 vezes e o termo 'Finttech', digitado incorretamente, aparecendo uma única vez.\n",
    "\n",
    "Realizaremos a mudança do termo para o correto."
   ]
  },
  {
   "cell_type": "code",
   "execution_count": 54,
   "metadata": {},
   "outputs": [
    {
     "data": {
      "text/plain": [
       "Setor\n",
       "Fintech                                187\n",
       "Internet software & services           166\n",
       "E-commerce & direct-to-consumer         99\n",
       "Artificial intelligence                 67\n",
       "Health                                  63\n",
       "Other                                   51\n",
       "Supply chain, logistics, & delivery     50\n",
       "Cybersecurity                           41\n",
       "Data management & analytics             36\n",
       "Mobile & telecommunications             35\n",
       "Hardware                                32\n",
       "Auto & transportation                   29\n",
       "Edtech                                  27\n",
       "Consumer & retail                       23\n",
       "Travel                                  13\n",
       "Artificial Intelligence                  4\n",
       "Finttech                                 1\n",
       "Name: count, dtype: int64"
      ]
     },
     "execution_count": 54,
     "metadata": {},
     "output_type": "execute_result"
    }
   ],
   "source": [
    "# Exibe os valores únicos por Setor\n",
    "df['Setor'].value_counts()"
   ]
  },
  {
   "cell_type": "code",
   "execution_count": 55,
   "metadata": {},
   "outputs": [
    {
     "data": {
      "text/plain": [
       "Setor\n",
       "Fintech                                188\n",
       "Internet software & services           166\n",
       "E-commerce & direct-to-consumer         99\n",
       "Artificial intelligence                 67\n",
       "Health                                  63\n",
       "Other                                   51\n",
       "Supply chain, logistics, & delivery     50\n",
       "Cybersecurity                           41\n",
       "Data management & analytics             36\n",
       "Mobile & telecommunications             35\n",
       "Hardware                                32\n",
       "Auto & transportation                   29\n",
       "Edtech                                  27\n",
       "Consumer & retail                       23\n",
       "Travel                                  13\n",
       "Artificial Intelligence                  4\n",
       "Name: count, dtype: int64"
      ]
     },
     "execution_count": 55,
     "metadata": {},
     "output_type": "execute_result"
    }
   ],
   "source": [
    "df.loc[df['Setor'] == 'Finttech', 'Setor'] = 'Fintech'\n",
    "\n",
    "df['Setor'].value_counts()"
   ]
  },
  {
   "cell_type": "markdown",
   "metadata": {},
   "source": [
    "Vamos realizar o mesmo procedimento no campo 'Empresa'. Observe que a empresa 'Bolt' aparece duas vezes, vamos observar as linhas em questão. É possível verificar que a empresa em questão segue dois Setores distintos e possue investidores distintos, o que não indica provavel equívoco na inserção dos dados. O melhor meio seria através de pesquisas sobre estas informações."
   ]
  },
  {
   "cell_type": "code",
   "execution_count": 58,
   "metadata": {},
   "outputs": [
    {
     "data": {
      "text/plain": [
       "Empresa\n",
       "Bolt              2\n",
       "Bytedance         1\n",
       "Project44         1\n",
       "Tealium           1\n",
       "Public            1\n",
       "                 ..\n",
       "Voodoo            1\n",
       "Uptake            1\n",
       "KeepTruckin       1\n",
       "Skydance Media    1\n",
       "Pet Circle        1\n",
       "Name: count, Length: 923, dtype: int64"
      ]
     },
     "execution_count": 58,
     "metadata": {},
     "output_type": "execute_result"
    }
   ],
   "source": [
    "# Exibe os valores únicos por Empresa\n",
    "df['Empresa'].value_counts()"
   ]
  },
  {
   "cell_type": "code",
   "execution_count": 61,
   "metadata": {},
   "outputs": [
    {
     "data": {
      "text/html": [
       "<div>\n",
       "<style scoped>\n",
       "    .dataframe tbody tr th:only-of-type {\n",
       "        vertical-align: middle;\n",
       "    }\n",
       "\n",
       "    .dataframe tbody tr th {\n",
       "        vertical-align: top;\n",
       "    }\n",
       "\n",
       "    .dataframe thead th {\n",
       "        text-align: right;\n",
       "    }\n",
       "</style>\n",
       "<table border=\"1\" class=\"dataframe\">\n",
       "  <thead>\n",
       "    <tr style=\"text-align: right;\">\n",
       "      <th></th>\n",
       "      <th>Id</th>\n",
       "      <th>Empresa</th>\n",
       "      <th>Valor ($B)</th>\n",
       "      <th>Data de Adesão</th>\n",
       "      <th>Pais</th>\n",
       "      <th>Cidade</th>\n",
       "      <th>Setor</th>\n",
       "      <th>Investidores</th>\n",
       "    </tr>\n",
       "  </thead>\n",
       "  <tbody>\n",
       "    <tr>\n",
       "      <th>94</th>\n",
       "      <td>94</td>\n",
       "      <td>Bolt</td>\n",
       "      <td>$6</td>\n",
       "      <td>10/8/2021</td>\n",
       "      <td>United States</td>\n",
       "      <td>San Francisco</td>\n",
       "      <td>Fintech</td>\n",
       "      <td>Activant Capital, Tribe Capital, General Atlantic</td>\n",
       "    </tr>\n",
       "    <tr>\n",
       "      <th>141</th>\n",
       "      <td>141</td>\n",
       "      <td>Bolt</td>\n",
       "      <td>$4.75</td>\n",
       "      <td>5/29/2018</td>\n",
       "      <td>Estonia</td>\n",
       "      <td>Tallinn</td>\n",
       "      <td>Auto &amp; transportation</td>\n",
       "      <td>Didi Chuxing, Diamler, TMT Investments</td>\n",
       "    </tr>\n",
       "  </tbody>\n",
       "</table>\n",
       "</div>"
      ],
      "text/plain": [
       "      Id Empresa Valor ($B) Data de Adesão           Pais         Cidade  \\\n",
       "94    94    Bolt         $6      10/8/2021  United States  San Francisco   \n",
       "141  141    Bolt      $4.75      5/29/2018        Estonia        Tallinn   \n",
       "\n",
       "                     Setor                                       Investidores  \n",
       "94                 Fintech  Activant Capital, Tribe Capital, General Atlantic  \n",
       "141  Auto & transportation             Didi Chuxing, Diamler, TMT Investments  "
      ]
     },
     "execution_count": 61,
     "metadata": {},
     "output_type": "execute_result"
    }
   ],
   "source": [
    "df.loc[df['Empresa'] == 'Bolt']"
   ]
  },
  {
   "cell_type": "markdown",
   "metadata": {},
   "source": [
    "## Tratamento de Dados\n",
    "\n",
    "Vamos observar algumas informações relacionadas aos tipos de dados nas colunas. Observe que existe o campo ID, que não adiciona informações pertinentes ao sistema. Podemos remover esta coluna sem perda. Além disso, a coluna 'Valor ($B)' está no tipo 'object' e não do tipo numérico. Assim como ocorre com 'Data de Adesão', que não está no tipo date."
   ]
  },
  {
   "cell_type": "code",
   "execution_count": 62,
   "metadata": {},
   "outputs": [
    {
     "name": "stdout",
     "output_type": "stream",
     "text": [
      "<class 'pandas.core.frame.DataFrame'>\n",
      "RangeIndex: 924 entries, 0 to 923\n",
      "Data columns (total 8 columns):\n",
      " #   Column          Non-Null Count  Dtype \n",
      "---  ------          --------------  ----- \n",
      " 0   Id              924 non-null    int64 \n",
      " 1   Empresa         924 non-null    object\n",
      " 2   Valor ($B)      924 non-null    object\n",
      " 3   Data de Adesão  924 non-null    object\n",
      " 4   Pais            924 non-null    object\n",
      " 5   Cidade          924 non-null    object\n",
      " 6   Setor           924 non-null    object\n",
      " 7   Investidores    924 non-null    object\n",
      "dtypes: int64(1), object(7)\n",
      "memory usage: 57.9+ KB\n"
     ]
    }
   ],
   "source": [
    "df.info()"
   ]
  },
  {
   "cell_type": "markdown",
   "metadata": {},
   "source": [
    "Com o comando head() é possível ter um vislumbre dos dados. Veja que, o campo 'Valor ($B)' possui um símbolo de cifrão no início do número. Antes de converter para tipo flutuante (double, float), é necessário remover este símbolo."
   ]
  },
  {
   "cell_type": "code",
   "execution_count": 53,
   "metadata": {},
   "outputs": [
    {
     "data": {
      "text/html": [
       "<div>\n",
       "<style scoped>\n",
       "    .dataframe tbody tr th:only-of-type {\n",
       "        vertical-align: middle;\n",
       "    }\n",
       "\n",
       "    .dataframe tbody tr th {\n",
       "        vertical-align: top;\n",
       "    }\n",
       "\n",
       "    .dataframe thead th {\n",
       "        text-align: right;\n",
       "    }\n",
       "</style>\n",
       "<table border=\"1\" class=\"dataframe\">\n",
       "  <thead>\n",
       "    <tr style=\"text-align: right;\">\n",
       "      <th></th>\n",
       "      <th>Id</th>\n",
       "      <th>Empresa</th>\n",
       "      <th>Valor ($B)</th>\n",
       "      <th>Data de Adesão</th>\n",
       "      <th>Pais</th>\n",
       "      <th>Cidade</th>\n",
       "      <th>Setor</th>\n",
       "      <th>Investidores</th>\n",
       "    </tr>\n",
       "  </thead>\n",
       "  <tbody>\n",
       "    <tr>\n",
       "      <th>0</th>\n",
       "      <td>0</td>\n",
       "      <td>Bytedance</td>\n",
       "      <td>$140</td>\n",
       "      <td>4/7/2017</td>\n",
       "      <td>China</td>\n",
       "      <td>Beijing</td>\n",
       "      <td>Artificial intelligence</td>\n",
       "      <td>Sequoia Capital China, SIG Asia Investments, S...</td>\n",
       "    </tr>\n",
       "    <tr>\n",
       "      <th>1</th>\n",
       "      <td>1</td>\n",
       "      <td>SpaceX</td>\n",
       "      <td>$100.3</td>\n",
       "      <td>12/1/2012</td>\n",
       "      <td>United States</td>\n",
       "      <td>Hawthorne</td>\n",
       "      <td>Other</td>\n",
       "      <td>Founders Fund, Draper Fisher Jurvetson, Rothen...</td>\n",
       "    </tr>\n",
       "    <tr>\n",
       "      <th>2</th>\n",
       "      <td>2</td>\n",
       "      <td>Stripe</td>\n",
       "      <td>$95</td>\n",
       "      <td>1/23/2014</td>\n",
       "      <td>United States</td>\n",
       "      <td>San Francisco</td>\n",
       "      <td>Fintech</td>\n",
       "      <td>Khosla Ventures, LowercaseCapital, capitalG</td>\n",
       "    </tr>\n",
       "    <tr>\n",
       "      <th>3</th>\n",
       "      <td>3</td>\n",
       "      <td>Klarna</td>\n",
       "      <td>$45.6</td>\n",
       "      <td>12/12/2011</td>\n",
       "      <td>Sweden</td>\n",
       "      <td>Stockholm</td>\n",
       "      <td>Fintech</td>\n",
       "      <td>Institutional Venture Partners, Sequoia Capita...</td>\n",
       "    </tr>\n",
       "    <tr>\n",
       "      <th>4</th>\n",
       "      <td>4</td>\n",
       "      <td>Canva</td>\n",
       "      <td>$40</td>\n",
       "      <td>1/8/2018</td>\n",
       "      <td>Australia</td>\n",
       "      <td>Surry Hills</td>\n",
       "      <td>Internet software &amp; services</td>\n",
       "      <td>Sequoia Capital China, Blackbird Ventures, Mat...</td>\n",
       "    </tr>\n",
       "  </tbody>\n",
       "</table>\n",
       "</div>"
      ],
      "text/plain": [
       "   Id    Empresa Valor ($B) Data de Adesão           Pais         Cidade  \\\n",
       "0   0  Bytedance       $140       4/7/2017          China        Beijing   \n",
       "1   1     SpaceX     $100.3      12/1/2012  United States      Hawthorne   \n",
       "2   2     Stripe        $95      1/23/2014  United States  San Francisco   \n",
       "3   3     Klarna      $45.6     12/12/2011         Sweden      Stockholm   \n",
       "4   4      Canva        $40       1/8/2018      Australia    Surry Hills   \n",
       "\n",
       "                          Setor  \\\n",
       "0       Artificial intelligence   \n",
       "1                         Other   \n",
       "2                       Fintech   \n",
       "3                       Fintech   \n",
       "4  Internet software & services   \n",
       "\n",
       "                                        Investidores  \n",
       "0  Sequoia Capital China, SIG Asia Investments, S...  \n",
       "1  Founders Fund, Draper Fisher Jurvetson, Rothen...  \n",
       "2        Khosla Ventures, LowercaseCapital, capitalG  \n",
       "3  Institutional Venture Partners, Sequoia Capita...  \n",
       "4  Sequoia Capital China, Blackbird Ventures, Mat...  "
      ]
     },
     "execution_count": 53,
     "metadata": {},
     "output_type": "execute_result"
    }
   ],
   "source": [
    "df.head()"
   ]
  },
  {
   "cell_type": "code",
   "execution_count": 63,
   "metadata": {},
   "outputs": [
    {
     "data": {
      "text/html": [
       "<div>\n",
       "<style scoped>\n",
       "    .dataframe tbody tr th:only-of-type {\n",
       "        vertical-align: middle;\n",
       "    }\n",
       "\n",
       "    .dataframe tbody tr th {\n",
       "        vertical-align: top;\n",
       "    }\n",
       "\n",
       "    .dataframe thead th {\n",
       "        text-align: right;\n",
       "    }\n",
       "</style>\n",
       "<table border=\"1\" class=\"dataframe\">\n",
       "  <thead>\n",
       "    <tr style=\"text-align: right;\">\n",
       "      <th></th>\n",
       "      <th>Id</th>\n",
       "      <th>Empresa</th>\n",
       "      <th>Valor ($B)</th>\n",
       "      <th>Data de Adesão</th>\n",
       "      <th>Pais</th>\n",
       "      <th>Cidade</th>\n",
       "      <th>Setor</th>\n",
       "      <th>Investidores</th>\n",
       "    </tr>\n",
       "  </thead>\n",
       "  <tbody>\n",
       "    <tr>\n",
       "      <th>0</th>\n",
       "      <td>0</td>\n",
       "      <td>Bytedance</td>\n",
       "      <td>140.0</td>\n",
       "      <td>4/7/2017</td>\n",
       "      <td>China</td>\n",
       "      <td>Beijing</td>\n",
       "      <td>Artificial intelligence</td>\n",
       "      <td>Sequoia Capital China, SIG Asia Investments, S...</td>\n",
       "    </tr>\n",
       "    <tr>\n",
       "      <th>1</th>\n",
       "      <td>1</td>\n",
       "      <td>SpaceX</td>\n",
       "      <td>100.3</td>\n",
       "      <td>12/1/2012</td>\n",
       "      <td>United States</td>\n",
       "      <td>Hawthorne</td>\n",
       "      <td>Other</td>\n",
       "      <td>Founders Fund, Draper Fisher Jurvetson, Rothen...</td>\n",
       "    </tr>\n",
       "    <tr>\n",
       "      <th>2</th>\n",
       "      <td>2</td>\n",
       "      <td>Stripe</td>\n",
       "      <td>95.0</td>\n",
       "      <td>1/23/2014</td>\n",
       "      <td>United States</td>\n",
       "      <td>San Francisco</td>\n",
       "      <td>Fintech</td>\n",
       "      <td>Khosla Ventures, LowercaseCapital, capitalG</td>\n",
       "    </tr>\n",
       "    <tr>\n",
       "      <th>3</th>\n",
       "      <td>3</td>\n",
       "      <td>Klarna</td>\n",
       "      <td>45.6</td>\n",
       "      <td>12/12/2011</td>\n",
       "      <td>Sweden</td>\n",
       "      <td>Stockholm</td>\n",
       "      <td>Fintech</td>\n",
       "      <td>Institutional Venture Partners, Sequoia Capita...</td>\n",
       "    </tr>\n",
       "    <tr>\n",
       "      <th>4</th>\n",
       "      <td>4</td>\n",
       "      <td>Canva</td>\n",
       "      <td>40.0</td>\n",
       "      <td>1/8/2018</td>\n",
       "      <td>Australia</td>\n",
       "      <td>Surry Hills</td>\n",
       "      <td>Internet software &amp; services</td>\n",
       "      <td>Sequoia Capital China, Blackbird Ventures, Mat...</td>\n",
       "    </tr>\n",
       "  </tbody>\n",
       "</table>\n",
       "</div>"
      ],
      "text/plain": [
       "   Id    Empresa  Valor ($B) Data de Adesão           Pais         Cidade  \\\n",
       "0   0  Bytedance       140.0       4/7/2017          China        Beijing   \n",
       "1   1     SpaceX       100.3      12/1/2012  United States      Hawthorne   \n",
       "2   2     Stripe        95.0      1/23/2014  United States  San Francisco   \n",
       "3   3     Klarna        45.6     12/12/2011         Sweden      Stockholm   \n",
       "4   4      Canva        40.0       1/8/2018      Australia    Surry Hills   \n",
       "\n",
       "                          Setor  \\\n",
       "0       Artificial intelligence   \n",
       "1                         Other   \n",
       "2                       Fintech   \n",
       "3                       Fintech   \n",
       "4  Internet software & services   \n",
       "\n",
       "                                        Investidores  \n",
       "0  Sequoia Capital China, SIG Asia Investments, S...  \n",
       "1  Founders Fund, Draper Fisher Jurvetson, Rothen...  \n",
       "2        Khosla Ventures, LowercaseCapital, capitalG  \n",
       "3  Institutional Venture Partners, Sequoia Capita...  \n",
       "4  Sequoia Capital China, Blackbird Ventures, Mat...  "
      ]
     },
     "execution_count": 63,
     "metadata": {},
     "output_type": "execute_result"
    }
   ],
   "source": [
    "# Transforma os dados da coluna 'Valor ($B)' em numérico e remove o símbolo de '$'\n",
    "df['Valor ($B)'] = pd.to_numeric(df['Valor ($B)'].apply(lambda linha: linha.replace('$', '')))\n",
    "\n",
    "df.head()"
   ]
  },
  {
   "cell_type": "code",
   "execution_count": 64,
   "metadata": {},
   "outputs": [
    {
     "name": "stdout",
     "output_type": "stream",
     "text": [
      "<class 'pandas.core.frame.DataFrame'>\n",
      "RangeIndex: 924 entries, 0 to 923\n",
      "Data columns (total 8 columns):\n",
      " #   Column          Non-Null Count  Dtype  \n",
      "---  ------          --------------  -----  \n",
      " 0   Id              924 non-null    int64  \n",
      " 1   Empresa         924 non-null    object \n",
      " 2   Valor ($B)      924 non-null    float64\n",
      " 3   Data de Adesão  924 non-null    object \n",
      " 4   Pais            924 non-null    object \n",
      " 5   Cidade          924 non-null    object \n",
      " 6   Setor           924 non-null    object \n",
      " 7   Investidores    924 non-null    object \n",
      "dtypes: float64(1), int64(1), object(6)\n",
      "memory usage: 57.9+ KB\n"
     ]
    }
   ],
   "source": [
    "df.info()"
   ]
  },
  {
   "cell_type": "markdown",
   "metadata": {},
   "source": [
    "Conversão da coluna 'Data de Adesão' para o formato correto de data"
   ]
  },
  {
   "cell_type": "code",
   "execution_count": 65,
   "metadata": {},
   "outputs": [
    {
     "data": {
      "text/html": [
       "<div>\n",
       "<style scoped>\n",
       "    .dataframe tbody tr th:only-of-type {\n",
       "        vertical-align: middle;\n",
       "    }\n",
       "\n",
       "    .dataframe tbody tr th {\n",
       "        vertical-align: top;\n",
       "    }\n",
       "\n",
       "    .dataframe thead th {\n",
       "        text-align: right;\n",
       "    }\n",
       "</style>\n",
       "<table border=\"1\" class=\"dataframe\">\n",
       "  <thead>\n",
       "    <tr style=\"text-align: right;\">\n",
       "      <th></th>\n",
       "      <th>Id</th>\n",
       "      <th>Empresa</th>\n",
       "      <th>Valor ($B)</th>\n",
       "      <th>Data de Adesão</th>\n",
       "      <th>Pais</th>\n",
       "      <th>Cidade</th>\n",
       "      <th>Setor</th>\n",
       "      <th>Investidores</th>\n",
       "    </tr>\n",
       "  </thead>\n",
       "  <tbody>\n",
       "    <tr>\n",
       "      <th>0</th>\n",
       "      <td>0</td>\n",
       "      <td>Bytedance</td>\n",
       "      <td>140.0</td>\n",
       "      <td>2017-04-07</td>\n",
       "      <td>China</td>\n",
       "      <td>Beijing</td>\n",
       "      <td>Artificial intelligence</td>\n",
       "      <td>Sequoia Capital China, SIG Asia Investments, S...</td>\n",
       "    </tr>\n",
       "    <tr>\n",
       "      <th>1</th>\n",
       "      <td>1</td>\n",
       "      <td>SpaceX</td>\n",
       "      <td>100.3</td>\n",
       "      <td>2012-12-01</td>\n",
       "      <td>United States</td>\n",
       "      <td>Hawthorne</td>\n",
       "      <td>Other</td>\n",
       "      <td>Founders Fund, Draper Fisher Jurvetson, Rothen...</td>\n",
       "    </tr>\n",
       "    <tr>\n",
       "      <th>2</th>\n",
       "      <td>2</td>\n",
       "      <td>Stripe</td>\n",
       "      <td>95.0</td>\n",
       "      <td>2014-01-23</td>\n",
       "      <td>United States</td>\n",
       "      <td>San Francisco</td>\n",
       "      <td>Fintech</td>\n",
       "      <td>Khosla Ventures, LowercaseCapital, capitalG</td>\n",
       "    </tr>\n",
       "    <tr>\n",
       "      <th>3</th>\n",
       "      <td>3</td>\n",
       "      <td>Klarna</td>\n",
       "      <td>45.6</td>\n",
       "      <td>2011-12-12</td>\n",
       "      <td>Sweden</td>\n",
       "      <td>Stockholm</td>\n",
       "      <td>Fintech</td>\n",
       "      <td>Institutional Venture Partners, Sequoia Capita...</td>\n",
       "    </tr>\n",
       "    <tr>\n",
       "      <th>4</th>\n",
       "      <td>4</td>\n",
       "      <td>Canva</td>\n",
       "      <td>40.0</td>\n",
       "      <td>2018-01-08</td>\n",
       "      <td>Australia</td>\n",
       "      <td>Surry Hills</td>\n",
       "      <td>Internet software &amp; services</td>\n",
       "      <td>Sequoia Capital China, Blackbird Ventures, Mat...</td>\n",
       "    </tr>\n",
       "  </tbody>\n",
       "</table>\n",
       "</div>"
      ],
      "text/plain": [
       "   Id    Empresa  Valor ($B) Data de Adesão           Pais         Cidade  \\\n",
       "0   0  Bytedance       140.0     2017-04-07          China        Beijing   \n",
       "1   1     SpaceX       100.3     2012-12-01  United States      Hawthorne   \n",
       "2   2     Stripe        95.0     2014-01-23  United States  San Francisco   \n",
       "3   3     Klarna        45.6     2011-12-12         Sweden      Stockholm   \n",
       "4   4      Canva        40.0     2018-01-08      Australia    Surry Hills   \n",
       "\n",
       "                          Setor  \\\n",
       "0       Artificial intelligence   \n",
       "1                         Other   \n",
       "2                       Fintech   \n",
       "3                       Fintech   \n",
       "4  Internet software & services   \n",
       "\n",
       "                                        Investidores  \n",
       "0  Sequoia Capital China, SIG Asia Investments, S...  \n",
       "1  Founders Fund, Draper Fisher Jurvetson, Rothen...  \n",
       "2        Khosla Ventures, LowercaseCapital, capitalG  \n",
       "3  Institutional Venture Partners, Sequoia Capita...  \n",
       "4  Sequoia Capital China, Blackbird Ventures, Mat...  "
      ]
     },
     "execution_count": 65,
     "metadata": {},
     "output_type": "execute_result"
    }
   ],
   "source": [
    "df['Data de Adesão'] = pd.to_datetime(df['Data de Adesão'])\n",
    "\n",
    "df.head()"
   ]
  },
  {
   "cell_type": "code",
   "execution_count": 66,
   "metadata": {},
   "outputs": [
    {
     "name": "stdout",
     "output_type": "stream",
     "text": [
      "<class 'pandas.core.frame.DataFrame'>\n",
      "RangeIndex: 924 entries, 0 to 923\n",
      "Data columns (total 8 columns):\n",
      " #   Column          Non-Null Count  Dtype         \n",
      "---  ------          --------------  -----         \n",
      " 0   Id              924 non-null    int64         \n",
      " 1   Empresa         924 non-null    object        \n",
      " 2   Valor ($B)      924 non-null    float64       \n",
      " 3   Data de Adesão  924 non-null    datetime64[ns]\n",
      " 4   Pais            924 non-null    object        \n",
      " 5   Cidade          924 non-null    object        \n",
      " 6   Setor           924 non-null    object        \n",
      " 7   Investidores    924 non-null    object        \n",
      "dtypes: datetime64[ns](1), float64(1), int64(1), object(5)\n",
      "memory usage: 57.9+ KB\n"
     ]
    }
   ],
   "source": [
    "df.info()"
   ]
  },
  {
   "cell_type": "markdown",
   "metadata": {},
   "source": [
    "Agora, removeremos o campo 'Id', visto que é um número sequencial e não traz informações pertinentes."
   ]
  },
  {
   "cell_type": "code",
   "execution_count": 67,
   "metadata": {},
   "outputs": [
    {
     "data": {
      "text/html": [
       "<div>\n",
       "<style scoped>\n",
       "    .dataframe tbody tr th:only-of-type {\n",
       "        vertical-align: middle;\n",
       "    }\n",
       "\n",
       "    .dataframe tbody tr th {\n",
       "        vertical-align: top;\n",
       "    }\n",
       "\n",
       "    .dataframe thead th {\n",
       "        text-align: right;\n",
       "    }\n",
       "</style>\n",
       "<table border=\"1\" class=\"dataframe\">\n",
       "  <thead>\n",
       "    <tr style=\"text-align: right;\">\n",
       "      <th></th>\n",
       "      <th>Empresa</th>\n",
       "      <th>Valor ($B)</th>\n",
       "      <th>Data de Adesão</th>\n",
       "      <th>Pais</th>\n",
       "      <th>Cidade</th>\n",
       "      <th>Setor</th>\n",
       "      <th>Investidores</th>\n",
       "    </tr>\n",
       "  </thead>\n",
       "  <tbody>\n",
       "    <tr>\n",
       "      <th>0</th>\n",
       "      <td>Bytedance</td>\n",
       "      <td>140.0</td>\n",
       "      <td>2017-04-07</td>\n",
       "      <td>China</td>\n",
       "      <td>Beijing</td>\n",
       "      <td>Artificial intelligence</td>\n",
       "      <td>Sequoia Capital China, SIG Asia Investments, S...</td>\n",
       "    </tr>\n",
       "    <tr>\n",
       "      <th>1</th>\n",
       "      <td>SpaceX</td>\n",
       "      <td>100.3</td>\n",
       "      <td>2012-12-01</td>\n",
       "      <td>United States</td>\n",
       "      <td>Hawthorne</td>\n",
       "      <td>Other</td>\n",
       "      <td>Founders Fund, Draper Fisher Jurvetson, Rothen...</td>\n",
       "    </tr>\n",
       "    <tr>\n",
       "      <th>2</th>\n",
       "      <td>Stripe</td>\n",
       "      <td>95.0</td>\n",
       "      <td>2014-01-23</td>\n",
       "      <td>United States</td>\n",
       "      <td>San Francisco</td>\n",
       "      <td>Fintech</td>\n",
       "      <td>Khosla Ventures, LowercaseCapital, capitalG</td>\n",
       "    </tr>\n",
       "    <tr>\n",
       "      <th>3</th>\n",
       "      <td>Klarna</td>\n",
       "      <td>45.6</td>\n",
       "      <td>2011-12-12</td>\n",
       "      <td>Sweden</td>\n",
       "      <td>Stockholm</td>\n",
       "      <td>Fintech</td>\n",
       "      <td>Institutional Venture Partners, Sequoia Capita...</td>\n",
       "    </tr>\n",
       "    <tr>\n",
       "      <th>4</th>\n",
       "      <td>Canva</td>\n",
       "      <td>40.0</td>\n",
       "      <td>2018-01-08</td>\n",
       "      <td>Australia</td>\n",
       "      <td>Surry Hills</td>\n",
       "      <td>Internet software &amp; services</td>\n",
       "      <td>Sequoia Capital China, Blackbird Ventures, Mat...</td>\n",
       "    </tr>\n",
       "  </tbody>\n",
       "</table>\n",
       "</div>"
      ],
      "text/plain": [
       "     Empresa  Valor ($B) Data de Adesão           Pais         Cidade  \\\n",
       "0  Bytedance       140.0     2017-04-07          China        Beijing   \n",
       "1     SpaceX       100.3     2012-12-01  United States      Hawthorne   \n",
       "2     Stripe        95.0     2014-01-23  United States  San Francisco   \n",
       "3     Klarna        45.6     2011-12-12         Sweden      Stockholm   \n",
       "4      Canva        40.0     2018-01-08      Australia    Surry Hills   \n",
       "\n",
       "                          Setor  \\\n",
       "0       Artificial intelligence   \n",
       "1                         Other   \n",
       "2                       Fintech   \n",
       "3                       Fintech   \n",
       "4  Internet software & services   \n",
       "\n",
       "                                        Investidores  \n",
       "0  Sequoia Capital China, SIG Asia Investments, S...  \n",
       "1  Founders Fund, Draper Fisher Jurvetson, Rothen...  \n",
       "2        Khosla Ventures, LowercaseCapital, capitalG  \n",
       "3  Institutional Venture Partners, Sequoia Capita...  \n",
       "4  Sequoia Capital China, Blackbird Ventures, Mat...  "
      ]
     },
     "execution_count": 67,
     "metadata": {},
     "output_type": "execute_result"
    }
   ],
   "source": [
    "# Remove a coluna 'Id' do DataFrame df e atribui a alteração diretamente no próprio DataFrame (inplace=True)\n",
    "df.drop('Id', axis=1, inplace=True)\n",
    "\n",
    "df.head()"
   ]
  },
  {
   "cell_type": "markdown",
   "metadata": {},
   "source": []
  }
 ],
 "metadata": {
  "kernelspec": {
   "display_name": "base",
   "language": "python",
   "name": "python3"
  },
  "language_info": {
   "codemirror_mode": {
    "name": "ipython",
    "version": 3
   },
   "file_extension": ".py",
   "mimetype": "text/x-python",
   "name": "python",
   "nbconvert_exporter": "python",
   "pygments_lexer": "ipython3",
   "version": "3.11.7"
  }
 },
 "nbformat": 4,
 "nbformat_minor": 2
}
